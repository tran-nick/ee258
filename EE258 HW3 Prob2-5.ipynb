{
 "cells": [
  {
   "cell_type": "code",
   "execution_count": 3,
   "id": "c56f6818",
   "metadata": {},
   "outputs": [
    {
     "data": {
      "text/html": [
       "<div>\n",
       "<style scoped>\n",
       "    .dataframe tbody tr th:only-of-type {\n",
       "        vertical-align: middle;\n",
       "    }\n",
       "\n",
       "    .dataframe tbody tr th {\n",
       "        vertical-align: top;\n",
       "    }\n",
       "\n",
       "    .dataframe thead th {\n",
       "        text-align: right;\n",
       "    }\n",
       "</style>\n",
       "<table border=\"1\" class=\"dataframe\">\n",
       "  <thead>\n",
       "    <tr style=\"text-align: right;\">\n",
       "      <th></th>\n",
       "      <th>AT</th>\n",
       "      <th>V</th>\n",
       "      <th>AP</th>\n",
       "      <th>RH</th>\n",
       "      <th>PE</th>\n",
       "    </tr>\n",
       "  </thead>\n",
       "  <tbody>\n",
       "    <tr>\n",
       "      <th>0</th>\n",
       "      <td>14.96</td>\n",
       "      <td>41.76</td>\n",
       "      <td>1024.07</td>\n",
       "      <td>73.17</td>\n",
       "      <td>463.26</td>\n",
       "    </tr>\n",
       "    <tr>\n",
       "      <th>1</th>\n",
       "      <td>25.18</td>\n",
       "      <td>62.96</td>\n",
       "      <td>1020.04</td>\n",
       "      <td>59.08</td>\n",
       "      <td>444.37</td>\n",
       "    </tr>\n",
       "    <tr>\n",
       "      <th>2</th>\n",
       "      <td>5.11</td>\n",
       "      <td>39.40</td>\n",
       "      <td>1012.16</td>\n",
       "      <td>92.14</td>\n",
       "      <td>488.56</td>\n",
       "    </tr>\n",
       "    <tr>\n",
       "      <th>3</th>\n",
       "      <td>20.86</td>\n",
       "      <td>57.32</td>\n",
       "      <td>1010.24</td>\n",
       "      <td>76.64</td>\n",
       "      <td>446.48</td>\n",
       "    </tr>\n",
       "    <tr>\n",
       "      <th>4</th>\n",
       "      <td>10.82</td>\n",
       "      <td>37.50</td>\n",
       "      <td>1009.23</td>\n",
       "      <td>96.62</td>\n",
       "      <td>473.90</td>\n",
       "    </tr>\n",
       "    <tr>\n",
       "      <th>...</th>\n",
       "      <td>...</td>\n",
       "      <td>...</td>\n",
       "      <td>...</td>\n",
       "      <td>...</td>\n",
       "      <td>...</td>\n",
       "    </tr>\n",
       "    <tr>\n",
       "      <th>9563</th>\n",
       "      <td>16.65</td>\n",
       "      <td>49.69</td>\n",
       "      <td>1014.01</td>\n",
       "      <td>91.00</td>\n",
       "      <td>460.03</td>\n",
       "    </tr>\n",
       "    <tr>\n",
       "      <th>9564</th>\n",
       "      <td>13.19</td>\n",
       "      <td>39.18</td>\n",
       "      <td>1023.67</td>\n",
       "      <td>66.78</td>\n",
       "      <td>469.62</td>\n",
       "    </tr>\n",
       "    <tr>\n",
       "      <th>9565</th>\n",
       "      <td>31.32</td>\n",
       "      <td>74.33</td>\n",
       "      <td>1012.92</td>\n",
       "      <td>36.48</td>\n",
       "      <td>429.57</td>\n",
       "    </tr>\n",
       "    <tr>\n",
       "      <th>9566</th>\n",
       "      <td>24.48</td>\n",
       "      <td>69.45</td>\n",
       "      <td>1013.86</td>\n",
       "      <td>62.39</td>\n",
       "      <td>435.74</td>\n",
       "    </tr>\n",
       "    <tr>\n",
       "      <th>9567</th>\n",
       "      <td>21.60</td>\n",
       "      <td>62.52</td>\n",
       "      <td>1017.23</td>\n",
       "      <td>67.87</td>\n",
       "      <td>453.28</td>\n",
       "    </tr>\n",
       "  </tbody>\n",
       "</table>\n",
       "<p>9568 rows × 5 columns</p>\n",
       "</div>"
      ],
      "text/plain": [
       "         AT      V       AP     RH      PE\n",
       "0     14.96  41.76  1024.07  73.17  463.26\n",
       "1     25.18  62.96  1020.04  59.08  444.37\n",
       "2      5.11  39.40  1012.16  92.14  488.56\n",
       "3     20.86  57.32  1010.24  76.64  446.48\n",
       "4     10.82  37.50  1009.23  96.62  473.90\n",
       "...     ...    ...      ...    ...     ...\n",
       "9563  16.65  49.69  1014.01  91.00  460.03\n",
       "9564  13.19  39.18  1023.67  66.78  469.62\n",
       "9565  31.32  74.33  1012.92  36.48  429.57\n",
       "9566  24.48  69.45  1013.86  62.39  435.74\n",
       "9567  21.60  62.52  1017.23  67.87  453.28\n",
       "\n",
       "[9568 rows x 5 columns]"
      ]
     },
     "execution_count": 3,
     "metadata": {},
     "output_type": "execute_result"
    }
   ],
   "source": [
    "import pandas as pd\n",
    "regress = pd.read_excel('HW3_RegressionDataSet.xlsx')\n",
    "regress"
   ]
  },
  {
   "cell_type": "code",
   "execution_count": 4,
   "id": "7c1980c3",
   "metadata": {},
   "outputs": [],
   "source": [
    "x = regress['AT']\n",
    "y = regress['PE']\n",
    "\n",
    "import numpy as np\n",
    "X_b = np.c_[np.ones((len(x),1)),x]  #numpy.c_ = <numpy.lib.index_tricks.CClass object>"
   ]
  },
  {
   "cell_type": "code",
   "execution_count": 5,
   "id": "7b781b99",
   "metadata": {},
   "outputs": [
    {
     "data": {
      "text/plain": [
       "array([[-0.27473257],\n",
       "       [-0.65844787]])"
      ]
     },
     "execution_count": 5,
     "metadata": {},
     "output_type": "execute_result"
    }
   ],
   "source": [
    "# full batch GD\n",
    "import matplotlib.pyplot as plt\n",
    "eta = 0.1  # learning rate \n",
    "n_iterations = 10 \n",
    "m = 100\n",
    "\n",
    "theta = np.random.randn(2,1)  # random initialization \n",
    "theta"
   ]
  },
  {
   "cell_type": "code",
   "execution_count": 9,
   "id": "cdad4b6f",
   "metadata": {},
   "outputs": [
    {
     "data": {
      "image/png": "[encoded data removed]",
      "text/plain": [
       "<Figure size 432x288 with 1 Axes>"
      ]
     },
     "metadata": {
      "needs_background": "light"
     },
     "output_type": "display_data"
    }
   ],
   "source": [
    "import matplotlib.pyplot as plt\n",
    "plt.plot(x,y,'b.')\n",
    "plt.title(r'$\\eta$ = 0.1')\n",
    "\n",
    "plt.xlabel(\"AT\")\n",
    "plt.ylabel(\"PE\")\n",
    "plt.show()"
   ]
  },
  {
   "cell_type": "code",
   "execution_count": 28,
   "id": "139dad3c",
   "metadata": {},
   "outputs": [
    {
     "name": "stdout",
     "output_type": "stream",
     "text": [
      "[[ 462.99101549  468.81101549  449.64101549  465.96101549  447.94101549]\n",
      " [7669.26330996 7765.84038996 7447.73340996 7718.54748996 7419.52360996]]\n",
      "[[ -153919.66337625  -155850.45368833  -149426.79260885  -154881.23678293\n",
      "   -148886.71217405]\n",
      " [-3318431.11654493 -3360068.50785385 -3221634.6822526  -3339201.53799639\n",
      "  -3209953.49089096]]\n",
      "[[6.02565585e+07 6.10125626e+07 5.84988830e+07 6.06337005e+07\n",
      "  5.82867756e+07]\n",
      " [1.36002418e+09 1.37708784e+09 1.32035254e+09 1.36853650e+09\n",
      "  1.31556518e+09]]\n",
      "[[-2.91725181e+10 -2.95385337e+10 -2.83215616e+10 -2.93551074e+10\n",
      "  -2.82188728e+10]\n",
      " [-6.50225065e+11 -6.58383170e+11 -6.31258129e+11 -6.54294788e+11\n",
      "  -6.28969302e+11]]\n",
      "[[1.21891191e+13 1.23420509e+13 1.18335649e+13 1.22654101e+13\n",
      "  1.17906585e+13]\n",
      " [2.60050456e+14 2.63313202e+14 2.52464836e+14 2.61678098e+14\n",
      "  2.51549444e+14]]\n",
      "[[-5.61813005e+15 -5.68861841e+15 -5.45425031e+15 -5.65329362e+15\n",
      "  -5.43447420e+15]\n",
      " [-1.30932249e+17 -1.32575002e+17 -1.27112981e+17 -1.31751747e+17\n",
      "  -1.26652093e+17]]\n",
      "[[2.13550498e+18 2.16229828e+18 2.07321273e+18 2.14887099e+18\n",
      "  2.06569563e+18]\n",
      " [4.22433079e+19 4.27733173e+19 4.10110790e+19 4.25077065e+19\n",
      "  4.08623803e+19]]\n",
      "[[-8.43345399e+20 -8.53926506e+20 -8.18745181e+20 -8.48623852e+20\n",
      "  -8.15776560e+20]\n",
      " [-1.86029352e+22 -1.88363385e+22 -1.80602912e+22 -1.87193699e+22\n",
      "  -1.79948079e+22]]\n",
      "[[4.68682349e+23 4.74562713e+23 4.55010978e+23 4.71615806e+23\n",
      "  4.53361191e+23]\n",
      " [1.26117179e+25 1.27699519e+25 1.22438366e+25 1.26906539e+25\n",
      "  1.21994426e+25]]\n",
      "[[-2.38311021e+26 -2.41301011e+26 -2.31359536e+26 -2.39802596e+26\n",
      "  -2.30520668e+26]\n",
      " [-6.22936157e+27 -6.30751880e+27 -6.04765233e+27 -6.26835080e+27\n",
      "  -6.02572464e+27]]\n"
     ]
    }
   ],
   "source": [
    "n_epochs = 10\n",
    "eta = 0.1\n",
    "m = len(x)\n",
    "theta = np.random.randn(2,1)  # random initialization \n",
    " \n",
    "for epoch in range(n_epochs):  \n",
    "    random_index = np.random.randint(0,m/2) \n",
    "    xi = X_b[random_index:random_index+5] \n",
    "    yi = y[random_index:random_index+5] \n",
    "    gradients = 2 * xi.T.dot(xi.dot(theta) - yi.values) \n",
    "    theta = theta - eta * gradients\n",
    "    "
   ]
  },
  {
   "cell_type": "code",
   "execution_count": null,
   "id": "62f0725a",
   "metadata": {},
   "outputs": [],
   "source": []
  }
 ],
 "metadata": {
  "kernelspec": {
   "display_name": "Python 3",
   "language": "python",
   "name": "python3"
  },
  "language_info": {
   "codemirror_mode": {
    "name": "ipython",
    "version": 3
   },
   "file_extension": ".py",
   "mimetype": "text/x-python",
   "name": "python",
   "nbconvert_exporter": "python",
   "pygments_lexer": "ipython3",
   "version": "3.8.8"
  }
 },
 "nbformat": 4,
 "nbformat_minor": 5
}

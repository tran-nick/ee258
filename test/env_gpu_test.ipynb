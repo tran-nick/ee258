{
 "cells": [
  {
   "cell_type": "code",
   "execution_count": 1,
   "id": "4704624e",
   "metadata": {},
   "outputs": [],
   "source": [
    "import tensorflow as tf"
   ]
  },
  {
   "cell_type": "code",
   "execution_count": 2,
   "id": "bea288c6",
   "metadata": {},
   "outputs": [],
   "source": [
    "from tensorflow.python.client import device_lib"
   ]
  },
  {
   "cell_type": "code",
   "execution_count": 3,
   "id": "2f68e85e",
   "metadata": {},
   "outputs": [
    {
     "data": {
      "text/plain": [
       "1"
      ]
     },
     "execution_count": 3,
     "metadata": {},
     "output_type": "execute_result"
    }
   ],
   "source": [
    "len(tf.config.list_physical_devices('GPU'))"
   ]
  },
  {
   "cell_type": "code",
   "execution_count": 4,
   "id": "3972553d",
   "metadata": {},
   "outputs": [
    {
     "data": {
      "text/plain": [
       "[name: \"/device:CPU:0\"\n",
       " device_type: \"CPU\"\n",
       " memory_limit: 268435456\n",
       " locality {\n",
       " }\n",
       " incarnation: 7219489751822196281\n",
       " xla_global_id: -1,\n",
       " name: \"/device:GPU:0\"\n",
       " device_type: \"GPU\"\n",
       " memory_limit: 5734203392\n",
       " locality {\n",
       "   bus_id: 1\n",
       "   links {\n",
       "   }\n",
       " }\n",
       " incarnation: 164666113834797237\n",
       " physical_device_desc: \"device: 0, name: NVIDIA GeForce RTX 3070, pci bus id: 0000:07:00.0, compute capability: 8.6\"\n",
       " xla_global_id: 416903419]"
      ]
     },
     "execution_count": 4,
     "metadata": {},
     "output_type": "execute_result"
    }
   ],
   "source": [
    "device_lib.list_local_devices()"
   ]
  },
  {
   "cell_type": "code",
   "execution_count": 1,
   "id": "597814d7",
   "metadata": {},
   "outputs": [],
   "source": []
  },
  {
   "cell_type": "code",
   "execution_count": 21,
   "id": "35d78c62",
   "metadata": {},
   "outputs": [],
   "source": [
    "import os\n",
    "path = \"C:/Users/tickn/ml/final_project/Fish_Dataset/Fish_Dataset_6/Hourse Mackerel/\"\n",
    "files = os.listdir(path)"
   ]
  },
  {
   "cell_type": "code",
   "execution_count": 22,
   "id": "afaba6d5",
   "metadata": {},
   "outputs": [
    {
     "name": "stdout",
     "output_type": "stream",
     "text": [
      "After Renaming: ['mackerel1.png', 'mackerel10.png', 'mackerel100.png', 'mackerel1000.png', 'mackerel101.png', 'mackerel102.png', 'mackerel103.png', 'mackerel104.png', 'mackerel105.png', 'mackerel106.png', 'mackerel107.png', 'mackerel108.png', 'mackerel109.png', 'mackerel11.png', 'mackerel110.png', 'mackerel111.png', 'mackerel112.png', 'mackerel113.png', 'mackerel114.png', 'mackerel115.png', 'mackerel116.png', 'mackerel117.png', 'mackerel118.png', 'mackerel119.png', 'mackerel12.png', 'mackerel120.png', 'mackerel121.png', 'mackerel122.png', 'mackerel123.png', 'mackerel124.png', 'mackerel125.png', 'mackerel126.png', 'mackerel127.png', 'mackerel128.png', 'mackerel129.png', 'mackerel13.png', 'mackerel130.png', 'mackerel131.png', 'mackerel132.png', 'mackerel133.png', 'mackerel134.png', 'mackerel135.png', 'mackerel136.png', 'mackerel137.png', 'mackerel138.png', 'mackerel139.png', 'mackerel14.png', 'mackerel140.png', 'mackerel141.png', 'mackerel142.png', 'mackerel143.png', 'mackerel144.png', 'mackerel145.png', 'mackerel146.png', 'mackerel147.png', 'mackerel148.png', 'mackerel149.png', 'mackerel15.png', 'mackerel150.png', 'mackerel151.png', 'mackerel152.png', 'mackerel153.png', 'mackerel154.png', 'mackerel155.png', 'mackerel156.png', 'mackerel157.png', 'mackerel158.png', 'mackerel159.png', 'mackerel16.png', 'mackerel160.png', 'mackerel161.png', 'mackerel162.png', 'mackerel163.png', 'mackerel164.png', 'mackerel165.png', 'mackerel166.png', 'mackerel167.png', 'mackerel168.png', 'mackerel169.png', 'mackerel17.png', 'mackerel170.png', 'mackerel171.png', 'mackerel172.png', 'mackerel173.png', 'mackerel174.png', 'mackerel175.png', 'mackerel176.png', 'mackerel177.png', 'mackerel178.png', 'mackerel179.png', 'mackerel18.png', 'mackerel180.png', 'mackerel181.png', 'mackerel182.png', 'mackerel183.png', 'mackerel184.png', 'mackerel185.png', 'mackerel186.png', 'mackerel187.png', 'mackerel188.png', 'mackerel189.png', 'mackerel19.png', 'mackerel190.png', 'mackerel191.png', 'mackerel192.png', 'mackerel193.png', 'mackerel194.png', 'mackerel195.png', 'mackerel196.png', 'mackerel197.png', 'mackerel198.png', 'mackerel199.png', 'mackerel2.png', 'mackerel20.png', 'mackerel200.png', 'mackerel201.png', 'mackerel202.png', 'mackerel203.png', 'mackerel204.png', 'mackerel205.png', 'mackerel206.png', 'mackerel207.png', 'mackerel208.png', 'mackerel209.png', 'mackerel21.png', 'mackerel210.png', 'mackerel211.png', 'mackerel212.png', 'mackerel213.png', 'mackerel214.png', 'mackerel215.png', 'mackerel216.png', 'mackerel217.png', 'mackerel218.png', 'mackerel219.png', 'mackerel22.png', 'mackerel220.png', 'mackerel221.png', 'mackerel222.png', 'mackerel223.png', 'mackerel224.png', 'mackerel225.png', 'mackerel226.png', 'mackerel227.png', 'mackerel228.png', 'mackerel229.png', 'mackerel23.png', 'mackerel230.png', 'mackerel231.png', 'mackerel232.png', 'mackerel233.png', 'mackerel234.png', 'mackerel235.png', 'mackerel236.png', 'mackerel237.png', 'mackerel238.png', 'mackerel239.png', 'mackerel24.png', 'mackerel240.png', 'mackerel241.png', 'mackerel242.png', 'mackerel243.png', 'mackerel244.png', 'mackerel245.png', 'mackerel246.png', 'mackerel247.png', 'mackerel248.png', 'mackerel249.png', 'mackerel25.png', 'mackerel250.png', 'mackerel251.png', 'mackerel252.png', 'mackerel253.png', 'mackerel254.png', 'mackerel255.png', 'mackerel256.png', 'mackerel257.png', 'mackerel258.png', 'mackerel259.png', 'mackerel26.png', 'mackerel260.png', 'mackerel261.png', 'mackerel262.png', 'mackerel263.png', 'mackerel264.png', 'mackerel265.png', 'mackerel266.png', 'mackerel267.png', 'mackerel268.png', 'mackerel269.png', 'mackerel27.png', 'mackerel270.png', 'mackerel271.png', 'mackerel272.png', 'mackerel273.png', 'mackerel274.png', 'mackerel275.png', 'mackerel276.png', 'mackerel277.png', 'mackerel278.png', 'mackerel279.png', 'mackerel28.png', 'mackerel280.png', 'mackerel281.png', 'mackerel282.png', 'mackerel283.png', 'mackerel284.png', 'mackerel285.png', 'mackerel286.png', 'mackerel287.png', 'mackerel288.png', 'mackerel289.png', 'mackerel29.png', 'mackerel290.png', 'mackerel291.png', 'mackerel292.png', 'mackerel293.png', 'mackerel294.png', 'mackerel295.png', 'mackerel296.png', 'mackerel297.png', 'mackerel298.png', 'mackerel299.png', 'mackerel3.png', 'mackerel30.png', 'mackerel300.png', 'mackerel301.png', 'mackerel302.png', 'mackerel303.png', 'mackerel304.png', 'mackerel305.png', 'mackerel306.png', 'mackerel307.png', 'mackerel308.png', 'mackerel309.png', 'mackerel31.png', 'mackerel310.png', 'mackerel311.png', 'mackerel312.png', 'mackerel313.png', 'mackerel314.png', 'mackerel315.png', 'mackerel316.png', 'mackerel317.png', 'mackerel318.png', 'mackerel319.png', 'mackerel32.png', 'mackerel320.png', 'mackerel321.png', 'mackerel322.png', 'mackerel323.png', 'mackerel324.png', 'mackerel325.png', 'mackerel326.png', 'mackerel327.png', 'mackerel328.png', 'mackerel329.png', 'mackerel33.png', 'mackerel330.png', 'mackerel331.png', 'mackerel332.png', 'mackerel333.png', 'mackerel334.png', 'mackerel335.png', 'mackerel336.png', 'mackerel337.png', 'mackerel338.png', 'mackerel339.png', 'mackerel34.png', 'mackerel340.png', 'mackerel341.png', 'mackerel342.png', 'mackerel343.png', 'mackerel344.png', 'mackerel345.png', 'mackerel346.png', 'mackerel347.png', 'mackerel348.png', 'mackerel349.png', 'mackerel35.png', 'mackerel350.png', 'mackerel351.png', 'mackerel352.png', 'mackerel353.png', 'mackerel354.png', 'mackerel355.png', 'mackerel356.png', 'mackerel357.png', 'mackerel358.png', 'mackerel359.png', 'mackerel36.png', 'mackerel360.png', 'mackerel361.png', 'mackerel362.png', 'mackerel363.png', 'mackerel364.png', 'mackerel365.png', 'mackerel366.png', 'mackerel367.png', 'mackerel368.png', 'mackerel369.png', 'mackerel37.png', 'mackerel370.png', 'mackerel371.png', 'mackerel372.png', 'mackerel373.png', 'mackerel374.png', 'mackerel375.png', 'mackerel376.png', 'mackerel377.png', 'mackerel378.png', 'mackerel379.png', 'mackerel38.png', 'mackerel380.png', 'mackerel381.png', 'mackerel382.png', 'mackerel383.png', 'mackerel384.png', 'mackerel385.png', 'mackerel386.png', 'mackerel387.png', 'mackerel388.png', 'mackerel389.png', 'mackerel39.png', 'mackerel390.png', 'mackerel391.png', 'mackerel392.png', 'mackerel393.png', 'mackerel394.png', 'mackerel395.png', 'mackerel396.png', 'mackerel397.png', 'mackerel398.png', 'mackerel399.png', 'mackerel4.png', 'mackerel40.png', 'mackerel400.png', 'mackerel401.png', 'mackerel402.png', 'mackerel403.png', 'mackerel404.png', 'mackerel405.png', 'mackerel406.png', 'mackerel407.png', 'mackerel408.png', 'mackerel409.png', 'mackerel41.png', 'mackerel410.png', 'mackerel411.png', 'mackerel412.png', 'mackerel413.png', 'mackerel414.png', 'mackerel415.png', 'mackerel416.png', 'mackerel417.png', 'mackerel418.png', 'mackerel419.png', 'mackerel42.png', 'mackerel420.png', 'mackerel421.png', 'mackerel422.png', 'mackerel423.png', 'mackerel424.png', 'mackerel425.png', 'mackerel426.png', 'mackerel427.png', 'mackerel428.png', 'mackerel429.png', 'mackerel43.png', 'mackerel430.png', 'mackerel431.png', 'mackerel432.png', 'mackerel433.png', 'mackerel434.png', 'mackerel435.png', 'mackerel436.png', 'mackerel437.png', 'mackerel438.png', 'mackerel439.png', 'mackerel44.png', 'mackerel440.png', 'mackerel441.png', 'mackerel442.png', 'mackerel443.png', 'mackerel444.png', 'mackerel445.png', 'mackerel446.png', 'mackerel447.png', 'mackerel448.png', 'mackerel449.png', 'mackerel45.png', 'mackerel450.png', 'mackerel451.png', 'mackerel452.png', 'mackerel453.png', 'mackerel454.png', 'mackerel455.png', 'mackerel456.png', 'mackerel457.png', 'mackerel458.png', 'mackerel459.png', 'mackerel46.png', 'mackerel460.png', 'mackerel461.png', 'mackerel462.png', 'mackerel463.png', 'mackerel464.png', 'mackerel465.png', 'mackerel466.png', 'mackerel467.png', 'mackerel468.png', 'mackerel469.png', 'mackerel47.png', 'mackerel470.png', 'mackerel471.png', 'mackerel472.png', 'mackerel473.png', 'mackerel474.png', 'mackerel475.png', 'mackerel476.png', 'mackerel477.png', 'mackerel478.png', 'mackerel479.png', 'mackerel48.png', 'mackerel480.png', 'mackerel481.png', 'mackerel482.png', 'mackerel483.png', 'mackerel484.png', 'mackerel485.png', 'mackerel486.png', 'mackerel487.png', 'mackerel488.png', 'mackerel489.png', 'mackerel49.png', 'mackerel490.png', 'mackerel491.png', 'mackerel492.png', 'mackerel493.png', 'mackerel494.png', 'mackerel495.png', 'mackerel496.png', 'mackerel497.png', 'mackerel498.png', 'mackerel499.png', 'mackerel5.png', 'mackerel50.png', 'mackerel500.png', 'mackerel501.png', 'mackerel502.png', 'mackerel503.png', 'mackerel504.png', 'mackerel505.png', 'mackerel506.png', 'mackerel507.png', 'mackerel508.png', 'mackerel509.png', 'mackerel51.png', 'mackerel510.png', 'mackerel511.png', 'mackerel512.png', 'mackerel513.png', 'mackerel514.png', 'mackerel515.png', 'mackerel516.png', 'mackerel517.png', 'mackerel518.png', 'mackerel519.png', 'mackerel52.png', 'mackerel520.png', 'mackerel521.png', 'mackerel522.png', 'mackerel523.png', 'mackerel524.png', 'mackerel525.png', 'mackerel526.png', 'mackerel527.png', 'mackerel528.png', 'mackerel529.png', 'mackerel53.png', 'mackerel530.png', 'mackerel531.png', 'mackerel532.png', 'mackerel533.png', 'mackerel534.png', 'mackerel535.png', 'mackerel536.png', 'mackerel537.png', 'mackerel538.png', 'mackerel539.png', 'mackerel54.png', 'mackerel540.png', 'mackerel541.png', 'mackerel542.png', 'mackerel543.png', 'mackerel544.png', 'mackerel545.png', 'mackerel546.png', 'mackerel547.png', 'mackerel548.png', 'mackerel549.png', 'mackerel55.png', 'mackerel550.png', 'mackerel551.png', 'mackerel552.png', 'mackerel553.png', 'mackerel554.png', 'mackerel555.png', 'mackerel556.png', 'mackerel557.png', 'mackerel558.png', 'mackerel559.png', 'mackerel56.png', 'mackerel560.png', 'mackerel561.png', 'mackerel562.png', 'mackerel563.png', 'mackerel564.png', 'mackerel565.png', 'mackerel566.png', 'mackerel567.png', 'mackerel568.png', 'mackerel569.png', 'mackerel57.png', 'mackerel570.png', 'mackerel571.png', 'mackerel572.png', 'mackerel573.png', 'mackerel574.png', 'mackerel575.png', 'mackerel576.png', 'mackerel577.png', 'mackerel578.png', 'mackerel579.png', 'mackerel58.png', 'mackerel580.png', 'mackerel581.png', 'mackerel582.png', 'mackerel583.png', 'mackerel584.png', 'mackerel585.png', 'mackerel586.png', 'mackerel587.png', 'mackerel588.png', 'mackerel589.png', 'mackerel59.png', 'mackerel590.png', 'mackerel591.png', 'mackerel592.png', 'mackerel593.png', 'mackerel594.png', 'mackerel595.png', 'mackerel596.png', 'mackerel597.png', 'mackerel598.png', 'mackerel599.png', 'mackerel6.png', 'mackerel60.png', 'mackerel600.png', 'mackerel601.png', 'mackerel602.png', 'mackerel603.png', 'mackerel604.png', 'mackerel605.png', 'mackerel606.png', 'mackerel607.png', 'mackerel608.png', 'mackerel609.png', 'mackerel61.png', 'mackerel610.png', 'mackerel611.png', 'mackerel612.png', 'mackerel613.png', 'mackerel614.png', 'mackerel615.png', 'mackerel616.png', 'mackerel617.png', 'mackerel618.png', 'mackerel619.png', 'mackerel62.png', 'mackerel620.png', 'mackerel621.png', 'mackerel622.png', 'mackerel623.png', 'mackerel624.png', 'mackerel625.png', 'mackerel626.png', 'mackerel627.png', 'mackerel628.png', 'mackerel629.png', 'mackerel63.png', 'mackerel630.png', 'mackerel631.png', 'mackerel632.png', 'mackerel633.png', 'mackerel634.png', 'mackerel635.png', 'mackerel636.png', 'mackerel637.png', 'mackerel638.png', 'mackerel639.png', 'mackerel64.png', 'mackerel640.png', 'mackerel641.png', 'mackerel642.png', 'mackerel643.png', 'mackerel644.png', 'mackerel645.png', 'mackerel646.png', 'mackerel647.png', 'mackerel648.png', 'mackerel649.png', 'mackerel65.png', 'mackerel650.png', 'mackerel651.png', 'mackerel652.png', 'mackerel653.png', 'mackerel654.png', 'mackerel655.png', 'mackerel656.png', 'mackerel657.png', 'mackerel658.png', 'mackerel659.png', 'mackerel66.png', 'mackerel660.png', 'mackerel661.png', 'mackerel662.png', 'mackerel663.png', 'mackerel664.png', 'mackerel665.png', 'mackerel666.png', 'mackerel667.png', 'mackerel668.png', 'mackerel669.png', 'mackerel67.png', 'mackerel670.png', 'mackerel671.png', 'mackerel672.png', 'mackerel673.png', 'mackerel674.png', 'mackerel675.png', 'mackerel676.png', 'mackerel677.png', 'mackerel678.png', 'mackerel679.png', 'mackerel68.png', 'mackerel680.png', 'mackerel681.png', 'mackerel682.png', 'mackerel683.png', 'mackerel684.png', 'mackerel685.png', 'mackerel686.png', 'mackerel687.png', 'mackerel688.png', 'mackerel689.png', 'mackerel69.png', 'mackerel690.png', 'mackerel691.png', 'mackerel692.png', 'mackerel693.png', 'mackerel694.png', 'mackerel695.png', 'mackerel696.png', 'mackerel697.png', 'mackerel698.png', 'mackerel699.png', 'mackerel7.png', 'mackerel70.png', 'mackerel700.png', 'mackerel701.png', 'mackerel702.png', 'mackerel703.png', 'mackerel704.png', 'mackerel705.png', 'mackerel706.png', 'mackerel707.png', 'mackerel708.png', 'mackerel709.png', 'mackerel71.png', 'mackerel710.png', 'mackerel711.png', 'mackerel712.png', 'mackerel713.png', 'mackerel714.png', 'mackerel715.png', 'mackerel716.png', 'mackerel717.png', 'mackerel718.png', 'mackerel719.png', 'mackerel72.png', 'mackerel720.png', 'mackerel721.png', 'mackerel722.png', 'mackerel723.png', 'mackerel724.png', 'mackerel725.png', 'mackerel726.png', 'mackerel727.png', 'mackerel728.png', 'mackerel729.png', 'mackerel73.png', 'mackerel730.png', 'mackerel731.png', 'mackerel732.png', 'mackerel733.png', 'mackerel734.png', 'mackerel735.png', 'mackerel736.png', 'mackerel737.png', 'mackerel738.png', 'mackerel739.png', 'mackerel74.png', 'mackerel740.png', 'mackerel741.png', 'mackerel742.png', 'mackerel743.png', 'mackerel744.png', 'mackerel745.png', 'mackerel746.png', 'mackerel747.png', 'mackerel748.png', 'mackerel749.png', 'mackerel75.png', 'mackerel750.png', 'mackerel751.png', 'mackerel752.png', 'mackerel753.png', 'mackerel754.png', 'mackerel755.png', 'mackerel756.png', 'mackerel757.png', 'mackerel758.png', 'mackerel759.png', 'mackerel76.png', 'mackerel760.png', 'mackerel761.png', 'mackerel762.png', 'mackerel763.png', 'mackerel764.png', 'mackerel765.png', 'mackerel766.png', 'mackerel767.png', 'mackerel768.png', 'mackerel769.png', 'mackerel77.png', 'mackerel770.png', 'mackerel771.png', 'mackerel772.png', 'mackerel773.png', 'mackerel774.png', 'mackerel775.png', 'mackerel776.png', 'mackerel777.png', 'mackerel778.png', 'mackerel779.png', 'mackerel78.png', 'mackerel780.png', 'mackerel781.png', 'mackerel782.png', 'mackerel783.png', 'mackerel784.png', 'mackerel785.png', 'mackerel786.png', 'mackerel787.png', 'mackerel788.png', 'mackerel789.png', 'mackerel79.png', 'mackerel790.png', 'mackerel791.png', 'mackerel792.png', 'mackerel793.png', 'mackerel794.png', 'mackerel795.png', 'mackerel796.png', 'mackerel797.png', 'mackerel798.png', 'mackerel799.png', 'mackerel8.png', 'mackerel80.png', 'mackerel800.png', 'mackerel801.png', 'mackerel802.png', 'mackerel803.png', 'mackerel804.png', 'mackerel805.png', 'mackerel806.png', 'mackerel807.png', 'mackerel808.png', 'mackerel809.png', 'mackerel81.png', 'mackerel810.png', 'mackerel811.png', 'mackerel812.png', 'mackerel813.png', 'mackerel814.png', 'mackerel815.png', 'mackerel816.png', 'mackerel817.png', 'mackerel818.png', 'mackerel819.png', 'mackerel82.png', 'mackerel820.png', 'mackerel821.png', 'mackerel822.png', 'mackerel823.png', 'mackerel824.png', 'mackerel825.png', 'mackerel826.png', 'mackerel827.png', 'mackerel828.png', 'mackerel829.png', 'mackerel83.png', 'mackerel830.png', 'mackerel831.png', 'mackerel832.png', 'mackerel833.png', 'mackerel834.png', 'mackerel835.png', 'mackerel836.png', 'mackerel837.png', 'mackerel838.png', 'mackerel839.png', 'mackerel84.png', 'mackerel840.png', 'mackerel841.png', 'mackerel842.png', 'mackerel843.png', 'mackerel844.png', 'mackerel845.png', 'mackerel846.png', 'mackerel847.png', 'mackerel848.png', 'mackerel849.png', 'mackerel85.png', 'mackerel850.png', 'mackerel851.png', 'mackerel852.png', 'mackerel853.png', 'mackerel854.png', 'mackerel855.png', 'mackerel856.png', 'mackerel857.png', 'mackerel858.png', 'mackerel859.png', 'mackerel86.png', 'mackerel860.png', 'mackerel861.png', 'mackerel862.png', 'mackerel863.png', 'mackerel864.png', 'mackerel865.png', 'mackerel866.png', 'mackerel867.png', 'mackerel868.png', 'mackerel869.png', 'mackerel87.png', 'mackerel870.png', 'mackerel871.png', 'mackerel872.png', 'mackerel873.png', 'mackerel874.png', 'mackerel875.png', 'mackerel876.png', 'mackerel877.png', 'mackerel878.png', 'mackerel879.png', 'mackerel88.png', 'mackerel880.png', 'mackerel881.png', 'mackerel882.png', 'mackerel883.png', 'mackerel884.png', 'mackerel885.png', 'mackerel886.png', 'mackerel887.png', 'mackerel888.png', 'mackerel889.png', 'mackerel89.png', 'mackerel890.png', 'mackerel891.png', 'mackerel892.png', 'mackerel893.png', 'mackerel894.png', 'mackerel895.png', 'mackerel896.png', 'mackerel897.png', 'mackerel898.png', 'mackerel899.png', 'mackerel9.png', 'mackerel90.png', 'mackerel900.png', 'mackerel901.png', 'mackerel902.png', 'mackerel903.png', 'mackerel904.png', 'mackerel905.png', 'mackerel906.png', 'mackerel907.png', 'mackerel908.png', 'mackerel909.png', 'mackerel91.png', 'mackerel910.png', 'mackerel911.png', 'mackerel912.png', 'mackerel913.png', 'mackerel914.png', 'mackerel915.png', 'mackerel916.png', 'mackerel917.png', 'mackerel918.png', 'mackerel919.png', 'mackerel92.png', 'mackerel920.png', 'mackerel921.png', 'mackerel922.png', 'mackerel923.png', 'mackerel924.png', 'mackerel925.png', 'mackerel926.png', 'mackerel927.png', 'mackerel928.png', 'mackerel929.png', 'mackerel93.png', 'mackerel930.png', 'mackerel931.png', 'mackerel932.png', 'mackerel933.png', 'mackerel934.png', 'mackerel935.png', 'mackerel936.png', 'mackerel937.png', 'mackerel938.png', 'mackerel939.png', 'mackerel94.png', 'mackerel940.png', 'mackerel941.png', 'mackerel942.png', 'mackerel943.png', 'mackerel944.png', 'mackerel945.png', 'mackerel946.png', 'mackerel947.png', 'mackerel948.png', 'mackerel949.png', 'mackerel95.png', 'mackerel950.png', 'mackerel951.png', 'mackerel952.png', 'mackerel953.png', 'mackerel954.png', 'mackerel955.png', 'mackerel956.png', 'mackerel957.png', 'mackerel958.png', 'mackerel959.png', 'mackerel96.png', 'mackerel960.png', 'mackerel961.png', 'mackerel962.png', 'mackerel963.png', 'mackerel964.png', 'mackerel965.png', 'mackerel966.png', 'mackerel967.png', 'mackerel968.png', 'mackerel969.png', 'mackerel97.png', 'mackerel970.png', 'mackerel971.png', 'mackerel972.png', 'mackerel973.png', 'mackerel974.png', 'mackerel975.png', 'mackerel976.png', 'mackerel977.png', 'mackerel978.png', 'mackerel979.png', 'mackerel98.png', 'mackerel980.png', 'mackerel981.png', 'mackerel982.png', 'mackerel983.png', 'mackerel984.png', 'mackerel985.png', 'mackerel986.png', 'mackerel987.png', 'mackerel988.png', 'mackerel989.png', 'mackerel99.png', 'mackerel990.png', 'mackerel991.png', 'mackerel992.png', 'mackerel993.png', 'mackerel994.png', 'mackerel995.png', 'mackerel996.png', 'mackerel997.png', 'mackerel998.png', 'mackerel999.png']\n"
     ]
    }
   ],
   "source": [
    "for i in range(len(files)):\n",
    "    os.rename(path+files[i], f\"{path}mackerel{i+1}.png\")\n",
    "    \n",
    "print(f\"After Renaming: {os.listdir(path)}\")"
   ]
  },
  {
   "cell_type": "code",
   "execution_count": null,
   "id": "079d23e0",
   "metadata": {},
   "outputs": [],
   "source": []
  }
 ],
 "metadata": {
  "kernelspec": {
   "display_name": "tf",
   "language": "python",
   "name": "tf"
  },
  "language_info": {
   "codemirror_mode": {
    "name": "ipython",
    "version": 3
   },
   "file_extension": ".py",
   "mimetype": "text/x-python",
   "name": "python",
   "nbconvert_exporter": "python",
   "pygments_lexer": "ipython3",
   "version": "3.8.0"
  }
 },
 "nbformat": 4,
 "nbformat_minor": 5
}

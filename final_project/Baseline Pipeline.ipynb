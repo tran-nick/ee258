{
 "cells": [
  {
   "cell_type": "code",
   "execution_count": 1,
   "id": "acf4bf70",
   "metadata": {},
   "outputs": [],
   "source": [
    "# handle imports\n",
    "\n",
    "import cv2\n",
    "import os, glob\n",
    "import matplotlib.pylab as plt\n",
    "from os import listdir, makedirs\n",
    "from os.path import isfile, join\n",
    "import pandas as pd\n",
    "import PIL\n",
    "import numpy as np\n",
    "from imageio import imread\n",
    "import io\n",
    "import pathlib\n",
    "# from numba import jit, cuda\n"
   ]
  },
  {
   "cell_type": "code",
   "execution_count": 2,
   "id": "34421ebd",
   "metadata": {},
   "outputs": [
    {
     "name": "stdout",
     "output_type": "stream",
     "text": [
      "Tensorflow Version: 2.7.0\n",
      "Keras Version: 2.7.0\n"
     ]
    }
   ],
   "source": [
    "import tensorflow as tf\n",
    "from tensorflow import keras\n",
    "print(\"Tensorflow Version:\",tf.__version__)\n",
    "print(\"Keras Version:\",keras.__version__)"
   ]
  },
  {
   "cell_type": "code",
   "execution_count": 3,
   "id": "ba74a773",
   "metadata": {},
   "outputs": [
    {
     "name": "stdout",
     "output_type": "stream",
     "text": [
      "Model: \"sequential\"\n",
      "_________________________________________________________________\n",
      " Layer (type)                Output Shape              Param #   \n",
      "=================================================================\n",
      " conv2d (Conv2D)             (None, 219, 292, 64)      12352     \n",
      "                                                                 \n",
      " max_pooling2d (MaxPooling2D  (None, 109, 146, 64)     0         \n",
      " )                                                               \n",
      "                                                                 \n",
      " flatten (Flatten)           (None, 1018496)           0         \n",
      "                                                                 \n",
      " dense (Dense)               (None, 100)               101849700 \n",
      "                                                                 \n",
      " dense_1 (Dense)             (None, 9)                 909       \n",
      "                                                                 \n",
      "=================================================================\n",
      "Total params: 101,862,961\n",
      "Trainable params: 101,862,961\n",
      "Non-trainable params: 0\n",
      "_________________________________________________________________\n"
     ]
    }
   ],
   "source": [
    "\n",
    "\n",
    "## Reuse model from HW5\n",
    "\n",
    "alt_model = keras.models.Sequential()\n",
    "\n",
    "alt_model.add(tf.keras.layers.Conv2D(64, 8, strides=2, activation=\"relu\",input_shape=[445,590,3]))\n",
    "alt_model.add(tf.keras.layers.MaxPool2D(2))\n",
    "alt_model.add(tf.keras.layers.Flatten())\n",
    "alt_model.add(tf.keras.layers.Dense(100, activation='relu'))\n",
    "alt_model.add(tf.keras.layers.Dense(9, activation='softmax'))\n",
    "    \n",
    "alt_model.summary()\n",
    "\n",
    "## compile the basic model\n",
    "\n",
    "sgd = keras.optimizers.SGD(learning_rate=0.001)\n",
    "alt_model.compile(loss=\"sparse_categorical_crossentropy\", optimizer=sgd,\n",
    "              metrics=[\"accuracy\"])\n",
    "\n"
   ]
  },
  {
   "cell_type": "code",
   "execution_count": null,
   "id": "124cd4f0",
   "metadata": {},
   "outputs": [],
   "source": []
  }
 ],
 "metadata": {
  "kernelspec": {
   "display_name": "tf",
   "language": "python",
   "name": "tf"
  },
  "language_info": {
   "codemirror_mode": {
    "name": "ipython",
    "version": 3
   },
   "file_extension": ".py",
   "mimetype": "text/x-python",
   "name": "python",
   "nbconvert_exporter": "python",
   "pygments_lexer": "ipython3",
   "version": "3.8.0"
  }
 },
 "nbformat": 4,
 "nbformat_minor": 5
}

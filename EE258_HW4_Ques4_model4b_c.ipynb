{
 "cells": [
  {
   "cell_type": "code",
   "execution_count": 2,
   "metadata": {},
   "outputs": [
    {
     "name": "stdout",
     "output_type": "stream",
     "text": [
      "Tensorflow Version: 2.7.0\n",
      "Keras Version: 2.7.0\n"
     ]
    }
   ],
   "source": [
    "# This cell is handling all the importing of libraries and tools\n",
    "# imports tensorflow and tf.keras\n",
    "import matplotlib.pyplot as plt\n",
    "%matplotlib inline\n",
    "\n",
    "import numpy as np\n",
    "from sklearn.model_selection import train_test_split\n",
    "\n",
    "import tensorflow as tf\n",
    "from tensorflow import keras\n",
    "print(\"Tensorflow Version:\", tf.__version__)\n",
    "print(\"Keras Version:\", keras.__version__)"
   ]
  },
  {
   "cell_type": "code",
   "execution_count": 3,
   "metadata": {},
   "outputs": [
    {
     "name": "stdout",
     "output_type": "stream",
     "text": [
      "Xtrain <class 'numpy.ndarray'> (60000, 28, 28)\n",
      "Xtest <class 'numpy.ndarray'> (10000, 28, 28)\n",
      "ytrain <class 'numpy.ndarray'> (60000,)\n",
      "ytest <class 'numpy.ndarray'> (10000,)\n",
      "Xtrain <class 'numpy.ndarray'> (60000, 784)\n",
      "Xtest <class 'numpy.ndarray'> (10000, 784)\n",
      "ytrain <class 'numpy.ndarray'> (60000,)\n",
      "ytest <class 'numpy.ndarray'> (10000,)\n"
     ]
    }
   ],
   "source": [
    "# import NIST data base for hand written digits\n",
    "# Print the shapes of data as loaded \n",
    "# then reshape to the data to flatten from 2 dimension (28,28) to 1 dimension (28*28)\n",
    "# \n",
    "# X_train - array of gray scale image data with shapes containing traning data\n",
    "# y_train - array of digit labels with shape for training data\n",
    "# x_test - greyscale image data, test data\n",
    "# y_test - digit labels, for test data\n",
    "\n",
    "from keras.datasets import mnist\n",
    "\n",
    "(Xtrain, ytrain), (Xtest, ytest) = mnist.load_data()\n",
    "\n",
    "print('Xtrain', type(Xtrain), Xtrain.shape)\n",
    "print('Xtest', type(Xtest), Xtest.shape)\n",
    "print('ytrain', type(ytrain), ytrain.shape)\n",
    "print('ytest', type(ytest), ytest.shape)\n",
    "\n",
    "\n",
    "Xtrain = Xtrain.reshape(len(Xtrain), 28*28)\n",
    "Xtest = Xtest.reshape(len(Xtest), 28*28)\n",
    "\n",
    "print('Xtrain', type(Xtrain), Xtrain.shape)\n",
    "print('Xtest', type(Xtest), Xtest.shape)\n",
    "print('ytrain', type(ytrain), ytrain.shape)\n",
    "print('ytest', type(ytest), ytest.shape)\n",
    "\n"
   ]
  },
  {
   "cell_type": "code",
   "execution_count": 5,
   "metadata": {},
   "outputs": [
    {
     "name": "stdout",
     "output_type": "stream",
     "text": [
      "<module 'keras.datasets.mnist' from 'E:\\\\Users\\\\tickn\\\\anaconda3\\\\lib\\\\site-packages\\\\keras\\\\datasets\\\\mnist.py'>\n"
     ]
    }
   ],
   "source": [
    "print(mnist)"
   ]
  },
  {
   "cell_type": "code",
   "execution_count": 23,
   "metadata": {},
   "outputs": [
    {
     "data": {
      "image/png": "[encoded data removed]",
      "text/plain": [
       "<Figure size 432x288 with 1 Axes>"
      ]
     },
     "metadata": {
      "needs_background": "light"
     },
     "output_type": "display_data"
    }
   ],
   "source": [
    "# remapping/reshaping back to 2 dimension and plotting first data point\n",
    "# to visualize the data point\n",
    "\n",
    "# changed to observer different digit\n",
    "\n",
    "plt.imshow(Xtrain[10].reshape(28,28), cmap = plt.cm.binary, interpolation = 'nearest') \n",
    "plt.show()"
   ]
  },
  {
   "cell_type": "code",
   "execution_count": 24,
   "metadata": {},
   "outputs": [
    {
     "name": "stdout",
     "output_type": "stream",
     "text": [
      "{0: 5923, 1: 6742, 2: 5958, 3: 6131, 4: 5842, 5: 5421, 6: 5918, 7: 6265, 8: 5851, 9: 5949}\n"
     ]
    },
    {
     "data": {
      "image/png": "[encoded data removed]",
      "text/plain": [
       "<Figure size 432x288 with 1 Axes>"
      ]
     },
     "metadata": {
      "needs_background": "light"
     },
     "output_type": "display_data"
    },
    {
     "data": {
      "image/png": "[encoded data removed]",
      "text/plain": [
       "<Figure size 432x288 with 1 Axes>"
      ]
     },
     "metadata": {
      "needs_background": "light"
     },
     "output_type": "display_data"
    }
   ],
   "source": [
    "# Get distribution of data labels and plot in bar chart\n",
    "digit_train, counts_train = np.unique(ytrain, return_counts = True)\n",
    "\n",
    "distribution_train = dict(zip(digit_train, counts_train))\n",
    "print(distribution_train )\n",
    "\n",
    "plt.bar(list(distribution_train.keys()),distribution_train.values(),width =0.6)\n",
    "plt.title('Test Data')\n",
    "plt.xlabel('Digit Number')\n",
    "plt.ylabel('Counts')\n",
    "plt.show()\n",
    "\n",
    "# display histogram for test data\n",
    "digit_test, counts_test = np.unique(ytest, return_counts = True)\n",
    "distribution_test = dict(zip(digit_test , counts_test))\n",
    "plt.bar(list(distribution_test.keys()),distribution_test.values(),width =0.6)\n",
    "plt.title('Training Data')\n",
    "plt.xlabel('Digit Number')\n",
    "plt.ylabel('Counts')\n",
    "plt.show()\n"
   ]
  },
  {
   "cell_type": "code",
   "execution_count": 25,
   "metadata": {},
   "outputs": [
    {
     "name": "stdout",
     "output_type": "stream",
     "text": [
      "(56000, 784) (4000, 784)\n",
      "[9 0 7 ... 0 0 4] [7 3 8 ... 2 9 0]\n"
     ]
    }
   ],
   "source": [
    "# splitting the training data into train and test subsets\n",
    "# test size set to 1/12 proportion of the training data set\n",
    "\n",
    "X_train, X_val, y_train, y_val  = train_test_split(Xtrain, ytrain, test_size = 1/15, random_state = 42)\n",
    "print(X_train.shape, X_val.shape)\n",
    "print(y_train, y_val)"
   ]
  },
  {
   "cell_type": "code",
   "execution_count": 26,
   "metadata": {},
   "outputs": [],
   "source": [
    "## READ \"Implementing MLPs with Keras\" on Hands-On Machine Learning with Scikit-Learn, Keras & Tensorflow \n",
    "#(pages 295-308)\n",
    "\n",
    "# Network Design 4\n",
    "# Network with 6 hidden layers using relu activation function and \n",
    "# 500 neuron in each layer\n",
    "\n",
    "from tensorflow.keras.optimizers import SGD\n",
    "\n",
    "model = keras. models.Sequential()\n",
    "model.add(keras.layers.Dense(300, activation =\"relu\"))\n",
    "model.add(keras.layers.Dense(300, activation =\"relu\"))\n",
    "model.add(keras.layers.Dense(300, activation =\"relu\"))\n",
    "model.add(keras.layers.Dense(300, activation =\"relu\"))\n",
    "model.add(keras.layers.Dense(300, activation =\"relu\"))\n",
    "model.add(keras.layers.Dense(300, activation =\"relu\"))\n",
    "model.add(keras.layers.Dense(10, activation = \"softmax\"))\n",
    "\n",
    "\n",
    "sgd = SGD(learning_rate=0.001)\n",
    "model.compile(optimizer=sgd,\n",
    "              loss='sparse_categorical_crossentropy',\n",
    "              metrics=['accuracy'])\n",
    "\n",
    "X_train = X_train.astype('float32')/255.0\n",
    "y_train = y_train.astype('uint')\n",
    "X_val = X_val.astype('float32')/255.0\n",
    "y_val = y_val.astype('uint')\n",
    "\n"
   ]
  },
  {
   "cell_type": "code",
   "execution_count": 27,
   "metadata": {},
   "outputs": [
    {
     "name": "stdout",
     "output_type": "stream",
     "text": [
      "Epoch 1/20\n",
      "374/374 [==============================] - 3s 7ms/step - loss: 2.2908 - accuracy: 0.1601 - val_loss: 2.2796 - val_accuracy: 0.2212\n",
      "Epoch 2/20\n",
      "374/374 [==============================] - 2s 7ms/step - loss: 2.2675 - accuracy: 0.2703 - val_loss: 2.2544 - val_accuracy: 0.3025\n",
      "Epoch 3/20\n",
      "374/374 [==============================] - 2s 6ms/step - loss: 2.2380 - accuracy: 0.3267 - val_loss: 2.2200 - val_accuracy: 0.3490\n",
      "Epoch 4/20\n",
      "374/374 [==============================] - 2s 6ms/step - loss: 2.1951 - accuracy: 0.3819 - val_loss: 2.1670 - val_accuracy: 0.4065\n",
      "Epoch 5/20\n",
      "374/374 [==============================] - 2s 6ms/step - loss: 2.1259 - accuracy: 0.4450 - val_loss: 2.0791 - val_accuracy: 0.4692\n",
      "Epoch 6/20\n",
      "374/374 [==============================] - 2s 6ms/step - loss: 2.0086 - accuracy: 0.5118 - val_loss: 1.9291 - val_accuracy: 0.5360\n",
      "Epoch 7/20\n",
      "374/374 [==============================] - 2s 6ms/step - loss: 1.8131 - accuracy: 0.5850 - val_loss: 1.6883 - val_accuracy: 0.6112\n",
      "Epoch 8/20\n",
      "374/374 [==============================] - 2s 6ms/step - loss: 1.5293 - accuracy: 0.6538 - val_loss: 1.3777 - val_accuracy: 0.6833\n",
      "Epoch 9/20\n",
      "374/374 [==============================] - 2s 6ms/step - loss: 1.2211 - accuracy: 0.7110 - val_loss: 1.0962 - val_accuracy: 0.7243\n",
      "Epoch 10/20\n",
      "374/374 [==============================] - 2s 6ms/step - loss: 0.9804 - accuracy: 0.7473 - val_loss: 0.9030 - val_accuracy: 0.7580\n",
      "Epoch 11/20\n",
      "374/374 [==============================] - 2s 6ms/step - loss: 0.8220 - accuracy: 0.7751 - val_loss: 0.7745 - val_accuracy: 0.7780\n",
      "Epoch 12/20\n",
      "374/374 [==============================] - 2s 6ms/step - loss: 0.7143 - accuracy: 0.8004 - val_loss: 0.6838 - val_accuracy: 0.8037\n",
      "Epoch 13/20\n",
      "374/374 [==============================] - 2s 6ms/step - loss: 0.6350 - accuracy: 0.8229 - val_loss: 0.6135 - val_accuracy: 0.8280\n",
      "Epoch 14/20\n",
      "374/374 [==============================] - 2s 6ms/step - loss: 0.5735 - accuracy: 0.8405 - val_loss: 0.5585 - val_accuracy: 0.8453\n",
      "Epoch 15/20\n",
      "374/374 [==============================] - 2s 6ms/step - loss: 0.5251 - accuracy: 0.8539 - val_loss: 0.5150 - val_accuracy: 0.8547\n",
      "Epoch 16/20\n",
      "374/374 [==============================] - 2s 6ms/step - loss: 0.4864 - accuracy: 0.8646 - val_loss: 0.4801 - val_accuracy: 0.8637\n",
      "Epoch 17/20\n",
      "374/374 [==============================] - 2s 6ms/step - loss: 0.4553 - accuracy: 0.8721 - val_loss: 0.4522 - val_accuracy: 0.8700\n",
      "Epoch 18/20\n",
      "374/374 [==============================] - 2s 6ms/step - loss: 0.4300 - accuracy: 0.8796 - val_loss: 0.4267 - val_accuracy: 0.8758\n",
      "Epoch 19/20\n",
      "374/374 [==============================] - 2s 6ms/step - loss: 0.4095 - accuracy: 0.8843 - val_loss: 0.4077 - val_accuracy: 0.8798\n",
      "Epoch 20/20\n",
      "374/374 [==============================] - 2s 6ms/step - loss: 0.3924 - accuracy: 0.8891 - val_loss: 0.3910 - val_accuracy: 0.8845\n"
     ]
    }
   ],
   "source": [
    "# training the model using model.fit()\n",
    "\n",
    "performance = model.fit(X_train, y_train, batch_size=150, epochs=20, validation_data =(X_val,y_val))\n"
   ]
  },
  {
   "cell_type": "code",
   "execution_count": 28,
   "metadata": {},
   "outputs": [
    {
     "name": "stdout",
     "output_type": "stream",
     "text": [
      "Model: \"sequential_2\"\n",
      "_________________________________________________________________\n",
      "Layer (type)                 Output Shape              Param #   \n",
      "=================================================================\n",
      "dense_14 (Dense)             (None, 300)               235500    \n",
      "_________________________________________________________________\n",
      "dense_15 (Dense)             (None, 300)               90300     \n",
      "_________________________________________________________________\n",
      "dense_16 (Dense)             (None, 300)               90300     \n",
      "_________________________________________________________________\n",
      "dense_17 (Dense)             (None, 300)               90300     \n",
      "_________________________________________________________________\n",
      "dense_18 (Dense)             (None, 300)               90300     \n",
      "_________________________________________________________________\n",
      "dense_19 (Dense)             (None, 300)               90300     \n",
      "_________________________________________________________________\n",
      "dense_20 (Dense)             (None, 10)                3010      \n",
      "=================================================================\n",
      "Total params: 690,010\n",
      "Trainable params: 690,010\n",
      "Non-trainable params: 0\n",
      "_________________________________________________________________\n"
     ]
    }
   ],
   "source": [
    "# print a summary of our model and each layer\n",
    "\n",
    "model.summary()"
   ]
  },
  {
   "cell_type": "code",
   "execution_count": 29,
   "metadata": {},
   "outputs": [
    {
     "name": "stdout",
     "output_type": "stream",
     "text": [
      "Accuracy: 0.891\n"
     ]
    }
   ],
   "source": [
    "# evaluate model on test data\n",
    "\n",
    "X_test = Xtest.astype('float32')/255.0\n",
    "y_test = ytest.astype('uint')\n",
    "\n",
    "\n",
    "loss, acc = model.evaluate(X_test, y_test, verbose=0)\n",
    "print('Accuracy: %.3f' % acc)\n",
    "     "
   ]
  },
  {
   "cell_type": "code",
   "execution_count": 30,
   "metadata": {},
   "outputs": [
    {
     "name": "stdout",
     "output_type": "stream",
     "text": [
      "Confusion Matrix\n",
      "[[ 953    0   15    2    1   15   19    4    9    9]\n",
      " [   0 1106   10    3    2    2    3   21    5    4]\n",
      " [   0    0  879   24    6    8    8   24   13    5]\n",
      " [   1    7   21  872    0   50    0    6   28    9]\n",
      " [   2    0   21    0  898   11   21   12   12   66]\n",
      " [  14    3    5   54    0  732   22    0   60   13]\n",
      " [   6    4   25    1   18   25  882    0   16    1]\n",
      " [   1    1   12   12    2   10    0  915    9   28]\n",
      " [   3   13   39   31    6   29    3    4  804   10]\n",
      " [   0    1    5   11   49   10    0   42   18  864]]\n",
      "Classification Report\n",
      "              precision    recall  f1-score   support\n",
      "\n",
      "           0       0.97      0.93      0.95      1027\n",
      "           1       0.97      0.96      0.97      1156\n",
      "           2       0.85      0.91      0.88       967\n",
      "           3       0.86      0.88      0.87       994\n",
      "           4       0.91      0.86      0.89      1043\n",
      "           5       0.82      0.81      0.82       903\n",
      "           6       0.92      0.90      0.91       978\n",
      "           7       0.89      0.92      0.91       990\n",
      "           8       0.83      0.85      0.84       942\n",
      "           9       0.86      0.86      0.86      1000\n",
      "\n",
      "    accuracy                           0.89     10000\n",
      "   macro avg       0.89      0.89      0.89     10000\n",
      "weighted avg       0.89      0.89      0.89     10000\n",
      "\n"
     ]
    }
   ],
   "source": [
    "# generate confusion matrix and classification report\n",
    "# report shows scores for precision, recall, F1, and support scores of the model\n",
    "\n",
    "from sklearn.metrics import classification_report, confusion_matrix\n",
    "\n",
    "\n",
    "\n",
    "y_proba = model.predict(X_test) \n",
    "y_pred = np.argmax(y_proba,axis=1)\n",
    "print('Confusion Matrix')\n",
    "print(confusion_matrix(y_pred, y_test))\n",
    "print('Classification Report')\n",
    "print(classification_report(y_pred, y_test))\n"
   ]
  },
  {
   "cell_type": "code",
   "execution_count": 31,
   "metadata": {},
   "outputs": [
    {
     "data": {
      "text/plain": [
       "dict_keys(['loss', 'accuracy', 'val_loss', 'val_accuracy'])"
      ]
     },
     "execution_count": 31,
     "metadata": {},
     "output_type": "execute_result"
    }
   ],
   "source": [
    "# plotting accuracy vs epochs\n",
    "performance.history.keys()"
   ]
  },
  {
   "cell_type": "code",
   "execution_count": 32,
   "metadata": {},
   "outputs": [
    {
     "data": {
      "image/png": "[encoded data removed]",
      "text/plain": [
       "<Figure size 432x288 with 1 Axes>"
      ]
     },
     "metadata": {
      "needs_background": "light"
     },
     "output_type": "display_data"
    },
    {
     "data": {
      "image/png": "[encoded data removed]",
      "text/plain": [
       "<Figure size 432x288 with 1 Axes>"
      ]
     },
     "metadata": {
      "needs_background": "light"
     },
     "output_type": "display_data"
    }
   ],
   "source": [
    "plt.plot(performance.history['accuracy'])\n",
    "plt.title('Accuracy')\n",
    "plt.xlabel('epochs')\n",
    "plt.ylabel('accuracy')\n",
    "plt.show()\n",
    "plt.plot(performance.history['val_accuracy'])\n",
    "plt.title('val_accuracy')\n",
    "plt.xlabel('epochs')\n",
    "plt.ylabel('accuracy')\n",
    "plt.show()"
   ]
  },
  {
   "cell_type": "markdown",
   "metadata": {},
   "source": [
    "To improve performance of the model, the number of neurons was decreased in each hidden layer. This appears to speed up the performance of the model and improves accuracy with each epoch. However, increasing the batch size and number of epochs doesn't seem to improve the speed at which the model converges to max accuracy. To further improve the mode, maybe more layers and larger batch sizes should be used so the model will converge to max accuracy within fewer epochs. "
   ]
  },
  {
   "cell_type": "code",
   "execution_count": null,
   "metadata": {},
   "outputs": [],
   "source": []
  }
 ],
 "metadata": {
  "kernelspec": {
   "display_name": "Python 3",
   "language": "python",
   "name": "python3"
  },
  "language_info": {
   "codemirror_mode": {
    "name": "ipython",
    "version": 3
   },
   "file_extension": ".py",
   "mimetype": "text/x-python",
   "name": "python",
   "nbconvert_exporter": "python",
   "pygments_lexer": "ipython3",
   "version": "3.8.8"
  }
 },
 "nbformat": 4,
 "nbformat_minor": 2
}

{
 "cells": [
  {
   "cell_type": "code",
   "execution_count": 66,
   "metadata": {},
   "outputs": [
    {
     "name": "stdout",
     "output_type": "stream",
     "text": [
      "Tensorflow Version: 2.6.0\n",
      "Keras Version: 2.6.0\n"
     ]
    }
   ],
   "source": [
    "# This cell is handling all the importing of libraries and tools\n",
    "# imports tensorflow and tf.keras\n",
    "import matplotlib.pyplot as plt\n",
    "%matplotlib inline\n",
    "\n",
    "import numpy as np\n",
    "from sklearn.model_selection import train_test_split\n",
    "\n",
    "import tensorflow as tf\n",
    "from tensorflow import keras\n",
    "print(\"Tensorflow Version:\", tf.__version__)\n",
    "print(\"Keras Version:\", keras.__version__)"
   ]
  },
  {
   "cell_type": "code",
   "execution_count": 67,
   "metadata": {},
   "outputs": [
    {
     "name": "stdout",
     "output_type": "stream",
     "text": [
      "Xtrain <class 'numpy.ndarray'> (60000, 28, 28)\n",
      "Xtest <class 'numpy.ndarray'> (10000, 28, 28)\n",
      "ytrain <class 'numpy.ndarray'> (60000,)\n",
      "ytest <class 'numpy.ndarray'> (10000,)\n",
      "Xtrain <class 'numpy.ndarray'> (60000, 784)\n",
      "Xtest <class 'numpy.ndarray'> (10000, 784)\n",
      "ytrain <class 'numpy.ndarray'> (60000,)\n",
      "ytest <class 'numpy.ndarray'> (10000,)\n"
     ]
    }
   ],
   "source": [
    "# import NIST data base for hand written digits\n",
    "# Print the shapes of data as loaded \n",
    "# then reshape to the data to flatten from 2 dimension (28,28) to 1 dimension (28*28)\n",
    "# \n",
    "# X_train - array of gray scale image data with shapes containing traning data\n",
    "# y_train - array of digit labels with shape for training data\n",
    "# x_test - greyscale image data, test data\n",
    "# y_test - digit labels, for test data\n",
    "\n",
    "from keras.datasets import mnist\n",
    "\n",
    "(Xtrain, ytrain), (Xtest, ytest) = mnist.load_data()\n",
    "\n",
    "print('Xtrain', type(Xtrain), Xtrain.shape)\n",
    "print('Xtest', type(Xtest), Xtest.shape)\n",
    "print('ytrain', type(ytrain), ytrain.shape)\n",
    "print('ytest', type(ytest), ytest.shape)\n",
    "\n",
    "\n",
    "Xtrain = Xtrain.reshape(len(Xtrain), 28*28)\n",
    "Xtest = Xtest.reshape(len(Xtest), 28*28)\n",
    "\n",
    "print('Xtrain', type(Xtrain), Xtrain.shape)\n",
    "print('Xtest', type(Xtest), Xtest.shape)\n",
    "print('ytrain', type(ytrain), ytrain.shape)\n",
    "print('ytest', type(ytest), ytest.shape)\n",
    "\n"
   ]
  },
  {
   "cell_type": "code",
   "execution_count": 68,
   "metadata": {},
   "outputs": [
    {
     "data": {
      "image/png": "[encoded data removed]",
      "text/plain": [
       "<Figure size 432x288 with 1 Axes>"
      ]
     },
     "metadata": {
      "needs_background": "light"
     },
     "output_type": "display_data"
    }
   ],
   "source": [
    "# remapping/reshaping back to 2 dimension and plotting first data point\n",
    "# to visualize the data point\n",
    "\n",
    "# changed to observer different digit\n",
    "\n",
    "plt.imshow(Xtrain[10].reshape(28,28), cmap = plt.cm.binary, interpolation = 'nearest') \n",
    "plt.show()"
   ]
  },
  {
   "cell_type": "code",
   "execution_count": 69,
   "metadata": {},
   "outputs": [
    {
     "name": "stdout",
     "output_type": "stream",
     "text": [
      "{0: 5923, 1: 6742, 2: 5958, 3: 6131, 4: 5842, 5: 5421, 6: 5918, 7: 6265, 8: 5851, 9: 5949}\n"
     ]
    },
    {
     "data": {
      "image/png": "[encoded data removed]",
      "text/plain": [
       "<Figure size 432x288 with 1 Axes>"
      ]
     },
     "metadata": {
      "needs_background": "light"
     },
     "output_type": "display_data"
    },
    {
     "data": {
      "image/png": "[encoded data removed]",
      "text/plain": [
       "<Figure size 432x288 with 1 Axes>"
      ]
     },
     "metadata": {
      "needs_background": "light"
     },
     "output_type": "display_data"
    }
   ],
   "source": [
    "# Get distribution of data labels and plot in bar chart\n",
    "digit_train, counts_train = np.unique(ytrain, return_counts = True)\n",
    "\n",
    "distribution_train = dict(zip(digit_train, counts_train))\n",
    "print(distribution_train )\n",
    "\n",
    "plt.bar(list(distribution_train.keys()),distribution_train.values(),width =0.6)\n",
    "plt.title('Test Data')\n",
    "plt.xlabel('Digit Number')\n",
    "plt.ylabel('Counts')\n",
    "plt.show()\n",
    "\n",
    "# display histogram for test data\n",
    "digit_test, counts_test = np.unique(ytest, return_counts = True)\n",
    "distribution_test = dict(zip(digit_test , counts_test))\n",
    "plt.bar(list(distribution_test.keys()),distribution_test.values(),width =0.6)\n",
    "plt.title('Training Data')\n",
    "plt.xlabel('Digit Number')\n",
    "plt.ylabel('Counts')\n",
    "plt.show()\n"
   ]
  },
  {
   "cell_type": "code",
   "execution_count": 70,
   "metadata": {},
   "outputs": [
    {
     "name": "stdout",
     "output_type": "stream",
     "text": [
      "(50000, 784) (10000, 784)\n",
      "[8 5 1 ... 0 0 4] [7 3 8 ... 9 8 1]\n"
     ]
    }
   ],
   "source": [
    "# splitting the training data into train and test subsets\n",
    "# test size set to 1/12 proportion of the training data set\n",
    "\n",
    "# split into 50,000 train to 10,000 test\n",
    "\n",
    "X_train, X_val, y_train, y_val  = train_test_split(Xtrain, ytrain, test_size = 1/6, random_state = 42)\n",
    "print(X_train.shape, X_val.shape)\n",
    "print(y_train, y_val)"
   ]
  },
  {
   "cell_type": "code",
   "execution_count": 71,
   "metadata": {},
   "outputs": [],
   "source": [
    "## READ \"Implementing MLPs with Keras\" on Hands-On Machine Learning with Scikit-Learn, Keras & Tensorflow \n",
    "#(pages 295-308)\n",
    "\n",
    "# import stochastic gradient descent for weight optimization\n",
    "# Sequential model for a plain stack of layers \n",
    "# Creates a neural network with 3 layers, 2 hidden layers with relu activation functions\n",
    "# 1 output layer with softwmax\n",
    "#\n",
    "# Then we optimize for weights using learning rate of 0.001\n",
    "# then build model using model.compile()\n",
    "\n",
    "# change 2 hidden layers to sigmoid activations, 1 layer to relu\n",
    "# last output layer is softmax\n",
    "\n",
    "\n",
    "from tensorflow.keras.optimizers import SGD\n",
    "\n",
    "model = keras. models.Sequential()\n",
    "model.add(keras.layers.Dense(300, activation =\"sigmoid\"))\n",
    "model.add(keras.layers.Dense(300, activation =\"sigmoid\"))\n",
    "model.add(keras.layers.Dense(300, activation =\"relu\"))\n",
    "model.add(keras.layers.Dense(10, activation = \"softmax\"))\n",
    "\n",
    "\n",
    "sgd = SGD(learning_rate=0.001)\n",
    "model.compile(optimizer=sgd,\n",
    "              loss='sparse_categorical_crossentropy',\n",
    "              metrics=['accuracy'])\n",
    "\n",
    "X_train = X_train.astype('float32')/255.0\n",
    "y_train = y_train.astype('uint')\n",
    "X_val = X_val.astype('float32')/255.0\n",
    "y_val = y_val.astype('uint')\n",
    "\n"
   ]
  },
  {
   "cell_type": "code",
   "execution_count": 72,
   "metadata": {},
   "outputs": [
    {
     "name": "stdout",
     "output_type": "stream",
     "text": [
      "Epoch 1/15\n",
      "391/391 [==============================] - 2s 4ms/step - loss: 2.3045 - accuracy: 0.1061 - val_loss: 2.2974 - val_accuracy: 0.1116\n",
      "Epoch 2/15\n",
      "391/391 [==============================] - 1s 3ms/step - loss: 2.2948 - accuracy: 0.1132 - val_loss: 2.2939 - val_accuracy: 0.1167\n",
      "Epoch 3/15\n",
      "391/391 [==============================] - 1s 4ms/step - loss: 2.2917 - accuracy: 0.1145 - val_loss: 2.2907 - val_accuracy: 0.1105\n",
      "Epoch 4/15\n",
      "391/391 [==============================] - 1s 4ms/step - loss: 2.2884 - accuracy: 0.1177 - val_loss: 2.2875 - val_accuracy: 0.1136\n",
      "Epoch 5/15\n",
      "391/391 [==============================] - 1s 4ms/step - loss: 2.2851 - accuracy: 0.1240 - val_loss: 2.2844 - val_accuracy: 0.1093\n",
      "Epoch 6/15\n",
      "391/391 [==============================] - 1s 3ms/step - loss: 2.2819 - accuracy: 0.1153 - val_loss: 2.2810 - val_accuracy: 0.1189\n",
      "Epoch 7/15\n",
      "391/391 [==============================] - 1s 3ms/step - loss: 2.2786 - accuracy: 0.1294 - val_loss: 2.2777 - val_accuracy: 0.1093\n",
      "Epoch 8/15\n",
      "391/391 [==============================] - 1s 3ms/step - loss: 2.2752 - accuracy: 0.1189 - val_loss: 2.2743 - val_accuracy: 0.1522\n",
      "Epoch 9/15\n",
      "391/391 [==============================] - 1s 3ms/step - loss: 2.2718 - accuracy: 0.1455 - val_loss: 2.2708 - val_accuracy: 0.1198\n",
      "Epoch 10/15\n",
      "391/391 [==============================] - 1s 3ms/step - loss: 2.2683 - accuracy: 0.1453 - val_loss: 2.2673 - val_accuracy: 0.1389\n",
      "Epoch 11/15\n",
      "391/391 [==============================] - 1s 4ms/step - loss: 2.2646 - accuracy: 0.1643 - val_loss: 2.2637 - val_accuracy: 0.1502\n",
      "Epoch 12/15\n",
      "391/391 [==============================] - 1s 3ms/step - loss: 2.2610 - accuracy: 0.1797 - val_loss: 2.2602 - val_accuracy: 0.1912\n",
      "Epoch 13/15\n",
      "391/391 [==============================] - 1s 3ms/step - loss: 2.2572 - accuracy: 0.2160 - val_loss: 2.2562 - val_accuracy: 0.1864\n",
      "Epoch 14/15\n",
      "391/391 [==============================] - 1s 3ms/step - loss: 2.2533 - accuracy: 0.2502 - val_loss: 2.2525 - val_accuracy: 0.1430\n",
      "Epoch 15/15\n",
      "391/391 [==============================] - 1s 3ms/step - loss: 2.2493 - accuracy: 0.2311 - val_loss: 2.2483 - val_accuracy: 0.2799\n"
     ]
    },
    {
     "data": {
      "text/plain": [
       "<keras.callbacks.History at 0x20428c39400>"
      ]
     },
     "execution_count": 72,
     "metadata": {},
     "output_type": "execute_result"
    }
   ],
   "source": [
    "# training the model using model.fit()\n",
    "\n",
    "# change batch size to 128\n",
    "# change epoch to 15\n",
    "\n",
    "model.fit(X_train, y_train, batch_size=128, epochs=15, validation_data =(X_val,y_val))\n"
   ]
  },
  {
   "cell_type": "code",
   "execution_count": 73,
   "metadata": {},
   "outputs": [
    {
     "name": "stdout",
     "output_type": "stream",
     "text": [
      "Model: \"sequential_5\"\n",
      "_________________________________________________________________\n",
      "Layer (type)                 Output Shape              Param #   \n",
      "=================================================================\n",
      "dense_19 (Dense)             (None, 300)               235500    \n",
      "_________________________________________________________________\n",
      "dense_20 (Dense)             (None, 300)               90300     \n",
      "_________________________________________________________________\n",
      "dense_21 (Dense)             (None, 300)               90300     \n",
      "_________________________________________________________________\n",
      "dense_22 (Dense)             (None, 10)                3010      \n",
      "=================================================================\n",
      "Total params: 419,110\n",
      "Trainable params: 419,110\n",
      "Non-trainable params: 0\n",
      "_________________________________________________________________\n"
     ]
    }
   ],
   "source": [
    "# print a summary of our model and each layer\n",
    "\n",
    "model.summary()"
   ]
  },
  {
   "cell_type": "code",
   "execution_count": 74,
   "metadata": {},
   "outputs": [
    {
     "name": "stdout",
     "output_type": "stream",
     "text": [
      "Accuracy: 0.298\n"
     ]
    }
   ],
   "source": [
    "# evaluate model on test data\n",
    "\n",
    "X_test = Xtest.astype('float32')/255.0\n",
    "y_test = ytest.astype('uint')\n",
    "\n",
    "\n",
    "loss, acc = model.evaluate(X_test, y_test, verbose=0)\n",
    "print('Accuracy: %.3f' % acc)\n",
    "     \n",
    "# Comments\n",
    "# The accuracy of the model decreased significantly, compared to 93% \n",
    "# before modifying the model. This may be due to decreasing the training data\n",
    "# and increasing the test data. Additionally, the batch size is larger, so optimization\n",
    "# of weights is taking larger steps and not able to get closer to optimal weights"
   ]
  },
  {
   "cell_type": "code",
   "execution_count": 75,
   "metadata": {},
   "outputs": [
    {
     "name": "stdout",
     "output_type": "stream",
     "text": [
      "Confusion Matrix\n",
      "[[ 554    0    4    0    0    5    1    1    4    7]\n",
      " [ 340 1135  927  627  903  683  350  789  854  959]\n",
      " [   1    0   45    0    1    0    0    0    2    0]\n",
      " [  25    0   25  379    0  187    0    1   90    4]\n",
      " [   0    0    0    0    4    0    0    0    0    1]\n",
      " [   0    0    0    0    0    0    0    0    0    0]\n",
      " [  55    0   27    3   31   11  607    1    7    1]\n",
      " [   0    0    4    1    0    2    0  210    2    1]\n",
      " [   0    0    0    0    0    0    0    0   10    0]\n",
      " [   5    0    0    0   43    4    0   26    5   36]]\n",
      "Classification Report\n",
      "              precision    recall  f1-score   support\n",
      "\n",
      "           0       0.57      0.96      0.71       576\n",
      "           1       1.00      0.15      0.26      7567\n",
      "           2       0.04      0.92      0.08        49\n",
      "           3       0.38      0.53      0.44       711\n",
      "           4       0.00      0.80      0.01         5\n",
      "           5       0.00      0.00      0.00         0\n",
      "           6       0.63      0.82      0.71       743\n",
      "           7       0.20      0.95      0.34       220\n",
      "           8       0.01      1.00      0.02        10\n",
      "           9       0.04      0.30      0.06       119\n",
      "\n",
      "    accuracy                           0.30     10000\n",
      "   macro avg       0.29      0.64      0.26     10000\n",
      "weighted avg       0.87      0.30      0.33     10000\n",
      "\n"
     ]
    },
    {
     "name": "stderr",
     "output_type": "stream",
     "text": [
      "E:\\Users\\tickn\\anaconda3\\lib\\site-packages\\sklearn\\metrics\\_classification.py:1245: UndefinedMetricWarning: Recall and F-score are ill-defined and being set to 0.0 in labels with no true samples. Use `zero_division` parameter to control this behavior.\n",
      "  _warn_prf(average, modifier, msg_start, len(result))\n",
      "E:\\Users\\tickn\\anaconda3\\lib\\site-packages\\sklearn\\metrics\\_classification.py:1245: UndefinedMetricWarning: Recall and F-score are ill-defined and being set to 0.0 in labels with no true samples. Use `zero_division` parameter to control this behavior.\n",
      "  _warn_prf(average, modifier, msg_start, len(result))\n",
      "E:\\Users\\tickn\\anaconda3\\lib\\site-packages\\sklearn\\metrics\\_classification.py:1245: UndefinedMetricWarning: Recall and F-score are ill-defined and being set to 0.0 in labels with no true samples. Use `zero_division` parameter to control this behavior.\n",
      "  _warn_prf(average, modifier, msg_start, len(result))\n"
     ]
    }
   ],
   "source": [
    "# generate confusion matrix and classification report\n",
    "# report shows scores for precision, recall, F1, and support scores of the model\n",
    "\n",
    "from sklearn.metrics import classification_report, confusion_matrix\n",
    "\n",
    "\n",
    "\n",
    "y_proba = model.predict(X_test) \n",
    "y_pred = np.argmax(y_proba,axis=1)\n",
    "print('Confusion Matrix')\n",
    "print(confusion_matrix(y_pred, y_test))\n",
    "print('Classification Report')\n",
    "print(classification_report(y_pred, y_test))\n",
    "\n",
    "# Comments\n",
    "# From the confusion matrix, there is a lot more misclassification by the prediction\n",
    "# Notably, the model incorrectly predicted a lot of the test values as '1'"
   ]
  }
 ],
 "metadata": {
  "kernelspec": {
   "display_name": "Python 3",
   "language": "python",
   "name": "python3"
  },
  "language_info": {
   "codemirror_mode": {
    "name": "ipython",
    "version": 3
   },
   "file_extension": ".py",
   "mimetype": "text/x-python",
   "name": "python",
   "nbconvert_exporter": "python",
   "pygments_lexer": "ipython3",
   "version": "3.8.8"
  }
 },
 "nbformat": 4,
 "nbformat_minor": 2
}

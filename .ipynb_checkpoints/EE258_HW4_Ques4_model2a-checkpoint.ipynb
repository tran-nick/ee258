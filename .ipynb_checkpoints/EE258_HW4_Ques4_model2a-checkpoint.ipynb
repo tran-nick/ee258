{
 "cells": [
  {
   "cell_type": "code",
   "execution_count": 2,
   "metadata": {},
   "outputs": [
    {
     "name": "stdout",
     "output_type": "stream",
     "text": [
      "Tensorflow Version: 2.6.0\n",
      "Keras Version: 2.6.0\n"
     ]
    }
   ],
   "source": [
    "# This cell is handling all the importing of libraries and tools\n",
    "# imports tensorflow and tf.keras\n",
    "import matplotlib.pyplot as plt\n",
    "%matplotlib inline\n",
    "\n",
    "import numpy as np\n",
    "from sklearn.model_selection import train_test_split\n",
    "\n",
    "import tensorflow as tf\n",
    "from tensorflow import keras\n",
    "print(\"Tensorflow Version:\", tf.__version__)\n",
    "print(\"Keras Version:\", keras.__version__)"
   ]
  },
  {
   "cell_type": "code",
   "execution_count": 3,
   "metadata": {},
   "outputs": [
    {
     "name": "stdout",
     "output_type": "stream",
     "text": [
      "Xtrain <class 'numpy.ndarray'> (60000, 28, 28)\n",
      "Xtest <class 'numpy.ndarray'> (10000, 28, 28)\n",
      "ytrain <class 'numpy.ndarray'> (60000,)\n",
      "ytest <class 'numpy.ndarray'> (10000,)\n",
      "Xtrain <class 'numpy.ndarray'> (60000, 784)\n",
      "Xtest <class 'numpy.ndarray'> (10000, 784)\n",
      "ytrain <class 'numpy.ndarray'> (60000,)\n",
      "ytest <class 'numpy.ndarray'> (10000,)\n"
     ]
    }
   ],
   "source": [
    "# import NIST data base for hand written digits\n",
    "# Print the shapes of data as loaded \n",
    "# then reshape to the data to flatten from 2 dimension (28,28) to 1 dimension (28*28)\n",
    "# \n",
    "# X_train - array of gray scale image data with shapes containing traning data\n",
    "# y_train - array of digit labels with shape for training data\n",
    "# x_test - greyscale image data, test data\n",
    "# y_test - digit labels, for test data\n",
    "\n",
    "from keras.datasets import mnist\n",
    "\n",
    "(Xtrain, ytrain), (Xtest, ytest) = mnist.load_data()\n",
    "\n",
    "print('Xtrain', type(Xtrain), Xtrain.shape)\n",
    "print('Xtest', type(Xtest), Xtest.shape)\n",
    "print('ytrain', type(ytrain), ytrain.shape)\n",
    "print('ytest', type(ytest), ytest.shape)\n",
    "\n",
    "\n",
    "Xtrain = Xtrain.reshape(len(Xtrain), 28*28)\n",
    "Xtest = Xtest.reshape(len(Xtest), 28*28)\n",
    "\n",
    "print('Xtrain', type(Xtrain), Xtrain.shape)\n",
    "print('Xtest', type(Xtest), Xtest.shape)\n",
    "print('ytrain', type(ytrain), ytrain.shape)\n",
    "print('ytest', type(ytest), ytest.shape)\n",
    "\n"
   ]
  },
  {
   "cell_type": "code",
   "execution_count": 4,
   "metadata": {},
   "outputs": [
    {
     "data": {
      "image/png": "[encoded data removed]",
      "text/plain": [
       "<Figure size 432x288 with 1 Axes>"
      ]
     },
     "metadata": {
      "needs_background": "light"
     },
     "output_type": "display_data"
    }
   ],
   "source": [
    "# remapping/reshaping back to 2 dimension and plotting first data point\n",
    "# to visualize the data point\n",
    "\n",
    "# changed to observer different digit\n",
    "\n",
    "plt.imshow(Xtrain[10].reshape(28,28), cmap = plt.cm.binary, interpolation = 'nearest') \n",
    "plt.show()"
   ]
  },
  {
   "cell_type": "code",
   "execution_count": 5,
   "metadata": {},
   "outputs": [
    {
     "name": "stdout",
     "output_type": "stream",
     "text": [
      "{0: 5923, 1: 6742, 2: 5958, 3: 6131, 4: 5842, 5: 5421, 6: 5918, 7: 6265, 8: 5851, 9: 5949}\n"
     ]
    },
    {
     "data": {
      "image/png": "[encoded data removed]",
      "text/plain": [
       "<Figure size 432x288 with 1 Axes>"
      ]
     },
     "metadata": {
      "needs_background": "light"
     },
     "output_type": "display_data"
    },
    {
     "data": {
      "image/png": "[encoded data removed]",
      "text/plain": [
       "<Figure size 432x288 with 1 Axes>"
      ]
     },
     "metadata": {
      "needs_background": "light"
     },
     "output_type": "display_data"
    }
   ],
   "source": [
    "# Get distribution of data labels and plot in bar chart\n",
    "digit_train, counts_train = np.unique(ytrain, return_counts = True)\n",
    "\n",
    "distribution_train = dict(zip(digit_train, counts_train))\n",
    "print(distribution_train )\n",
    "\n",
    "plt.bar(list(distribution_train.keys()),distribution_train.values(),width =0.6)\n",
    "plt.title('Test Data')\n",
    "plt.xlabel('Digit Number')\n",
    "plt.ylabel('Counts')\n",
    "plt.show()\n",
    "\n",
    "# display histogram for test data\n",
    "digit_test, counts_test = np.unique(ytest, return_counts = True)\n",
    "distribution_test = dict(zip(digit_test , counts_test))\n",
    "plt.bar(list(distribution_test.keys()),distribution_test.values(),width =0.6)\n",
    "plt.title('Training Data')\n",
    "plt.xlabel('Digit Number')\n",
    "plt.ylabel('Counts')\n",
    "plt.show()\n"
   ]
  },
  {
   "cell_type": "code",
   "execution_count": 7,
   "metadata": {},
   "outputs": [
    {
     "name": "stdout",
     "output_type": "stream",
     "text": [
      "(55000, 784) (5000, 784)\n",
      "[7 2 2 ... 0 0 4] [7 3 8 ... 7 4 9]\n"
     ]
    }
   ],
   "source": [
    "# splitting the training data into train and test subsets\n",
    "# test size set to 1/12 proportion of the training data set\n",
    "\n",
    "X_train, X_val, y_train, y_val  = train_test_split(Xtrain, ytrain, test_size = 1/12, random_state = 42)\n",
    "print(X_train.shape, X_val.shape)\n",
    "print(y_train, y_val)"
   ]
  },
  {
   "cell_type": "code",
   "execution_count": 12,
   "metadata": {},
   "outputs": [],
   "source": [
    "## READ \"Implementing MLPs with Keras\" on Hands-On Machine Learning with Scikit-Learn, Keras & Tensorflow \n",
    "#(pages 295-308)\n",
    "\n",
    "# Network Design 1\n",
    "# Model with 3 hiddle layers with all linear activation functions\n",
    "# and softmax activation at the ouput layer\n",
    "# the training and test data have been split using same values as original notebook \n",
    "# to establish baseline performance\n",
    "\n",
    "\n",
    "from tensorflow.keras.optimizers import SGD\n",
    "\n",
    "model = keras. models.Sequential()\n",
    "model.add(keras.layers.Dense(100, activation =\"sigmoid\"))\n",
    "model.add(keras.layers.Dense(100, activation =\"sigmoid\"))\n",
    "model.add(keras.layers.Dense(100, activation =\"sigmoid\"))\n",
    "model.add(keras.layers.Dense(100, activation =\"sigmoid\"))\n",
    "model.add(keras.layers.Dense(100, activation =\"sigmoid\"))\n",
    "model.add(keras.layers.Dense(10, activation = \"softmax\"))\n",
    "\n",
    "\n",
    "sgd = SGD(learning_rate=0.001)\n",
    "model.compile(optimizer=sgd,\n",
    "              loss='sparse_categorical_crossentropy',\n",
    "              metrics=['accuracy'])\n",
    "\n",
    "X_train = X_train.astype('float32')/255.0\n",
    "y_train = y_train.astype('uint')\n",
    "X_val = X_val.astype('float32')/255.0\n",
    "y_val = y_val.astype('uint')\n",
    "\n"
   ]
  },
  {
   "cell_type": "code",
   "execution_count": 17,
   "metadata": {},
   "outputs": [
    {
     "name": "stdout",
     "output_type": "stream",
     "text": [
      "Epoch 1/5\n",
      "5500/5500 [==============================] - 8s 1ms/step - loss: 2.3013 - accuracy: 0.1129 - val_loss: 2.3027 - val_accuracy: 0.1070\n",
      "Epoch 2/5\n",
      "5500/5500 [==============================] - 8s 2ms/step - loss: 2.3013 - accuracy: 0.1129 - val_loss: 2.3028 - val_accuracy: 0.1070\n",
      "Epoch 3/5\n",
      "5500/5500 [==============================] - 8s 1ms/step - loss: 2.3012 - accuracy: 0.1129 - val_loss: 2.3028 - val_accuracy: 0.1070\n",
      "Epoch 4/5\n",
      "5500/5500 [==============================] - 8s 1ms/step - loss: 2.3012 - accuracy: 0.1129 - val_loss: 2.3026 - val_accuracy: 0.1070\n",
      "Epoch 5/5\n",
      "5500/5500 [==============================] - 8s 2ms/step - loss: 2.3013 - accuracy: 0.1129 - val_loss: 2.3023 - val_accuracy: 0.1070\n"
     ]
    }
   ],
   "source": [
    "# training the model using model.fit()\n",
    "\n",
    "performance = model.fit(X_train, y_train, batch_size=10, epochs=5, validation_data =(X_val,y_val))\n"
   ]
  },
  {
   "cell_type": "code",
   "execution_count": 18,
   "metadata": {},
   "outputs": [
    {
     "name": "stdout",
     "output_type": "stream",
     "text": [
      "Model: \"sequential_2\"\n",
      "_________________________________________________________________\n",
      "Layer (type)                 Output Shape              Param #   \n",
      "=================================================================\n",
      "dense_8 (Dense)              (None, 300)               235500    \n",
      "_________________________________________________________________\n",
      "dense_9 (Dense)              (None, 300)               90300     \n",
      "_________________________________________________________________\n",
      "dense_10 (Dense)             (None, 300)               90300     \n",
      "_________________________________________________________________\n",
      "dense_11 (Dense)             (None, 10)                3010      \n",
      "=================================================================\n",
      "Total params: 419,110\n",
      "Trainable params: 419,110\n",
      "Non-trainable params: 0\n",
      "_________________________________________________________________\n"
     ]
    }
   ],
   "source": [
    "# print a summary of our model and each layer\n",
    "\n",
    "model.summary()"
   ]
  },
  {
   "cell_type": "code",
   "execution_count": 15,
   "metadata": {},
   "outputs": [
    {
     "name": "stdout",
     "output_type": "stream",
     "text": [
      "Accuracy: 0.140\n"
     ]
    }
   ],
   "source": [
    "# evaluate model on test data\n",
    "\n",
    "X_test = Xtest.astype('float32')/255.0\n",
    "y_test = ytest.astype('uint')\n",
    "\n",
    "\n",
    "loss, acc = model.evaluate(X_test, y_test, verbose=0)\n",
    "print('Accuracy: %.3f' % acc)\n",
    "     \n",
    "# Comments\n",
    "# The baseline performance of the model is not very good. Accuracy is really low, which is \n",
    "# expected from the activation function used is not ideal "
   ]
  },
  {
   "cell_type": "code",
   "execution_count": 16,
   "metadata": {},
   "outputs": [
    {
     "name": "stdout",
     "output_type": "stream",
     "text": [
      "Confusion Matrix\n",
      "[[ 51 265 127 161 260 127 383 177 300 480]\n",
      " [162 605 376 231 341 163 181 524 377 321]\n",
      " [  6  39   9   3  12  45  10  26   3   3]\n",
      " [485  24  53 430   4 181  36  26  54   9]\n",
      " [ 82  39  87   2  15  19  85  10   8  10]\n",
      " [  3  42  13  11  36  43   3  23   8   8]\n",
      " [137   4  56  59  81  95  86  24  22  14]\n",
      " [ 10  56 114  16  85  31  77  25  70  42]\n",
      " [ 16  53  44  51 145  93  87 181 127 117]\n",
      " [ 28   8 153  46   3  95  10  12   5   5]]\n",
      "Classification Report\n",
      "              precision    recall  f1-score   support\n",
      "\n",
      "           0       0.05      0.02      0.03      2331\n",
      "           1       0.53      0.18      0.27      3281\n",
      "           2       0.01      0.06      0.02       156\n",
      "           3       0.43      0.33      0.37      1302\n",
      "           4       0.02      0.04      0.02       357\n",
      "           5       0.05      0.23      0.08       190\n",
      "           6       0.09      0.15      0.11       578\n",
      "           7       0.02      0.05      0.03       526\n",
      "           8       0.13      0.14      0.13       914\n",
      "           9       0.00      0.01      0.01       365\n",
      "\n",
      "    accuracy                           0.14     10000\n",
      "   macro avg       0.13      0.12      0.11     10000\n",
      "weighted avg       0.26      0.14      0.17     10000\n",
      "\n"
     ]
    }
   ],
   "source": [
    "# generate confusion matrix and classification report\n",
    "# report shows scores for precision, recall, F1, and support scores of the model\n",
    "\n",
    "from sklearn.metrics import classification_report, confusion_matrix\n",
    "\n",
    "\n",
    "\n",
    "y_proba = model.predict(X_test) \n",
    "y_pred = np.argmax(y_proba,axis=1)\n",
    "print('Confusion Matrix')\n",
    "print(confusion_matrix(y_pred, y_test))\n",
    "print('Classification Report')\n",
    "print(classification_report(y_pred, y_test))\n"
   ]
  },
  {
   "cell_type": "code",
   "execution_count": 24,
   "metadata": {},
   "outputs": [
    {
     "data": {
      "text/plain": [
       "dict_keys(['loss', 'accuracy', 'val_loss', 'val_accuracy'])"
      ]
     },
     "execution_count": 24,
     "metadata": {},
     "output_type": "execute_result"
    }
   ],
   "source": [
    "# plotting accuracy vs epochs\n",
    "performance.history.keys()"
   ]
  },
  {
   "cell_type": "code",
   "execution_count": 38,
   "metadata": {},
   "outputs": [
    {
     "data": {
      "image/png": "[encoded data removed]",
      "text/plain": [
       "<Figure size 432x288 with 1 Axes>"
      ]
     },
     "metadata": {
      "needs_background": "light"
     },
     "output_type": "display_data"
    },
    {
     "data": {
      "image/png": "[encoded data removed]",
      "text/plain": [
       "<Figure size 432x288 with 1 Axes>"
      ]
     },
     "metadata": {
      "needs_background": "light"
     },
     "output_type": "display_data"
    }
   ],
   "source": [
    "plt.plot(performance.history['accuracy'])\n",
    "plt.title('Accuracy')\n",
    "plt.xlabel('epochs')\n",
    "plt.ylabel('accuracy')\n",
    "plt.show()\n",
    "plt.plot(performance.history['val_accuracy'])\n",
    "plt.title('val_accuracy')\n",
    "plt.xlabel('epochs')\n",
    "plt.ylabel('accuracy')\n",
    "plt.show()"
   ]
  },
  {
   "cell_type": "markdown",
   "metadata": {},
   "source": [
    "The baseline performance of network using linear activation function is not very good. "
   ]
  },
  {
   "cell_type": "code",
   "execution_count": null,
   "metadata": {},
   "outputs": [],
   "source": []
  }
 ],
 "metadata": {
  "kernelspec": {
   "display_name": "Python 3",
   "language": "python",
   "name": "python3"
  },
  "language_info": {
   "codemirror_mode": {
    "name": "ipython",
    "version": 3
   },
   "file_extension": ".py",
   "mimetype": "text/x-python",
   "name": "python",
   "nbconvert_exporter": "python",
   "pygments_lexer": "ipython3",
   "version": "3.8.8"
  }
 },
 "nbformat": 4,
 "nbformat_minor": 2
}

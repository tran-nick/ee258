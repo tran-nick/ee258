{
 "cells": [
  {
   "cell_type": "code",
   "execution_count": 6,
   "metadata": {},
   "outputs": [
    {
     "name": "stdout",
     "output_type": "stream",
     "text": [
      "Tensorflow Version: 2.6.0\n",
      "Keras Version: 2.6.0\n"
     ]
    }
   ],
   "source": [
    "# This cell is handling all the importing of libraries and tools\n",
    "# imports tensorflow and tf.keras\n",
    "import matplotlib.pyplot as plt\n",
    "%matplotlib inline\n",
    "\n",
    "import numpy as np\n",
    "from sklearn.model_selection import train_test_split\n",
    "\n",
    "import tensorflow as tf\n",
    "from tensorflow import keras\n",
    "print(\"Tensorflow Version:\", tf.__version__)\n",
    "print(\"Keras Version:\", keras.__version__)"
   ]
  },
  {
   "cell_type": "code",
   "execution_count": 7,
   "metadata": {},
   "outputs": [
    {
     "name": "stdout",
     "output_type": "stream",
     "text": [
      "Xtrain <class 'numpy.ndarray'> (60000, 28, 28)\n",
      "Xtest <class 'numpy.ndarray'> (10000, 28, 28)\n",
      "ytrain <class 'numpy.ndarray'> (60000,)\n",
      "ytest <class 'numpy.ndarray'> (10000,)\n",
      "Xtrain <class 'numpy.ndarray'> (60000, 784)\n",
      "Xtest <class 'numpy.ndarray'> (10000, 784)\n",
      "ytrain <class 'numpy.ndarray'> (60000,)\n",
      "ytest <class 'numpy.ndarray'> (10000,)\n"
     ]
    }
   ],
   "source": [
    "# import NIST data base for hand written digits\n",
    "# Print the shapes of data as loaded \n",
    "# then reshape to the data to flatten from 2 dimension (28,28) to 1 dimension (28*28)\n",
    "# \n",
    "# X_train - array of gray scale image data with shapes containing traning data\n",
    "# y_train - array of digit labels with shape for training data\n",
    "# x_test - greyscale image data, test data\n",
    "# y_test - digit labels, for test data\n",
    "\n",
    "from keras.datasets import mnist\n",
    "\n",
    "(Xtrain, ytrain), (Xtest, ytest) = mnist.load_data()\n",
    "\n",
    "print('Xtrain', type(Xtrain), Xtrain.shape)\n",
    "print('Xtest', type(Xtest), Xtest.shape)\n",
    "print('ytrain', type(ytrain), ytrain.shape)\n",
    "print('ytest', type(ytest), ytest.shape)\n",
    "\n",
    "\n",
    "Xtrain = Xtrain.reshape(len(Xtrain), 28*28)\n",
    "Xtest = Xtest.reshape(len(Xtest), 28*28)\n",
    "\n",
    "print('Xtrain', type(Xtrain), Xtrain.shape)\n",
    "print('Xtest', type(Xtest), Xtest.shape)\n",
    "print('ytrain', type(ytrain), ytrain.shape)\n",
    "print('ytest', type(ytest), ytest.shape)\n",
    "\n"
   ]
  },
  {
   "cell_type": "code",
   "execution_count": 8,
   "metadata": {},
   "outputs": [
    {
     "data": {
      "image/png": "[encoded data removed]",
      "text/plain": [
       "<Figure size 432x288 with 1 Axes>"
      ]
     },
     "metadata": {
      "needs_background": "light"
     },
     "output_type": "display_data"
    }
   ],
   "source": [
    "# remapping/reshaping back to 2 dimension and plotting first data point\n",
    "# to visualize the data point\n",
    "\n",
    "# changed to observer different digit\n",
    "\n",
    "plt.imshow(Xtrain[10].reshape(28,28), cmap = plt.cm.binary, interpolation = 'nearest') \n",
    "plt.show()"
   ]
  },
  {
   "cell_type": "code",
   "execution_count": 9,
   "metadata": {},
   "outputs": [
    {
     "name": "stdout",
     "output_type": "stream",
     "text": [
      "{0: 5923, 1: 6742, 2: 5958, 3: 6131, 4: 5842, 5: 5421, 6: 5918, 7: 6265, 8: 5851, 9: 5949}\n"
     ]
    },
    {
     "data": {
      "image/png": "[encoded data removed]",
      "text/plain": [
       "<Figure size 432x288 with 1 Axes>"
      ]
     },
     "metadata": {
      "needs_background": "light"
     },
     "output_type": "display_data"
    },
    {
     "data": {
      "image/png": "[encoded data removed]",
      "text/plain": [
       "<Figure size 432x288 with 1 Axes>"
      ]
     },
     "metadata": {
      "needs_background": "light"
     },
     "output_type": "display_data"
    }
   ],
   "source": [
    "# Get distribution of data labels and plot in bar chart\n",
    "digit_train, counts_train = np.unique(ytrain, return_counts = True)\n",
    "\n",
    "distribution_train = dict(zip(digit_train, counts_train))\n",
    "print(distribution_train )\n",
    "\n",
    "plt.bar(list(distribution_train.keys()),distribution_train.values(),width =0.6)\n",
    "plt.title('Test Data')\n",
    "plt.xlabel('Digit Number')\n",
    "plt.ylabel('Counts')\n",
    "plt.show()\n",
    "\n",
    "# display histogram for test data\n",
    "digit_test, counts_test = np.unique(ytest, return_counts = True)\n",
    "distribution_test = dict(zip(digit_test , counts_test))\n",
    "plt.bar(list(distribution_test.keys()),distribution_test.values(),width =0.6)\n",
    "plt.title('Training Data')\n",
    "plt.xlabel('Digit Number')\n",
    "plt.ylabel('Counts')\n",
    "plt.show()\n"
   ]
  },
  {
   "cell_type": "code",
   "execution_count": 10,
   "metadata": {},
   "outputs": [
    {
     "name": "stdout",
     "output_type": "stream",
     "text": [
      "(50000, 784) (10000, 784)\n",
      "[8 5 1 ... 0 0 4] [7 3 8 ... 9 8 1]\n"
     ]
    }
   ],
   "source": [
    "# splitting the training data into train and test subsets\n",
    "# test size set to 1/12 proportion of the training data set\n",
    "\n",
    "X_train, X_val, y_train, y_val  = train_test_split(Xtrain, ytrain, test_size = 1/6, random_state = 42)\n",
    "print(X_train.shape, X_val.shape)\n",
    "print(y_train, y_val)"
   ]
  },
  {
   "cell_type": "code",
   "execution_count": 18,
   "metadata": {},
   "outputs": [],
   "source": [
    "## READ \"Implementing MLPs with Keras\" on Hands-On Machine Learning with Scikit-Learn, Keras & Tensorflow \n",
    "#(pages 295-308)\n",
    "\n",
    "# Network Design 1\n",
    "# Model with 3 hiddle layers with all linear activation functions\n",
    "# and softmax activation at the ouput layer\n",
    "# the training and test data have been split using same values as original notebook \n",
    "# to establish baseline performance\n",
    "\n",
    "\n",
    "from tensorflow.keras.optimizers import SGD\n",
    "\n",
    "model = keras. models.Sequential()\n",
    "model.add(keras.layers.Dense(300, activation =\"linear\"))\n",
    "model.add(keras.layers.Dense(300, activation =\"linear\"))\n",
    "model.add(keras.layers.Dense(300, activation =\"linear\"))\n",
    "model.add(keras.layers.Dense(10, activation = \"softmax\"))\n",
    "\n",
    "\n",
    "sgd = SGD(learning_rate=0.001)\n",
    "model.compile(optimizer=sgd,\n",
    "              loss='sparse_categorical_crossentropy',\n",
    "              metrics=['accuracy'])\n",
    "\n",
    "X_train = X_train.astype('float32')/255.0\n",
    "y_train = y_train.astype('uint')\n",
    "X_val = X_val.astype('float32')/255.0\n",
    "y_val = y_val.astype('uint')\n",
    "\n"
   ]
  },
  {
   "cell_type": "code",
   "execution_count": 19,
   "metadata": {},
   "outputs": [
    {
     "name": "stdout",
     "output_type": "stream",
     "text": [
      "Epoch 1/5\n",
      "5000/5000 [==============================] - 10s 2ms/step - loss: 2.3012 - accuracy: 0.1126 - val_loss: 2.3012 - val_accuracy: 0.1093\n",
      "Epoch 2/5\n",
      "5000/5000 [==============================] - 10s 2ms/step - loss: 2.3004 - accuracy: 0.1130 - val_loss: 2.3006 - val_accuracy: 0.1093\n",
      "Epoch 3/5\n",
      "5000/5000 [==============================] - 10s 2ms/step - loss: 2.2998 - accuracy: 0.1130 - val_loss: 2.2998 - val_accuracy: 0.1093\n",
      "Epoch 4/5\n",
      "5000/5000 [==============================] - 9s 2ms/step - loss: 2.2992 - accuracy: 0.1130 - val_loss: 2.2995 - val_accuracy: 0.1093\n",
      "Epoch 5/5\n",
      "5000/5000 [==============================] - 9s 2ms/step - loss: 2.2986 - accuracy: 0.1130 - val_loss: 2.2986 - val_accuracy: 0.1093\n"
     ]
    }
   ],
   "source": [
    "# training the model using model.fit()\n",
    "\n",
    "performance = model.fit(X_train, y_train, batch_size=10, epochs=5, validation_data =(X_val,y_val))\n"
   ]
  },
  {
   "cell_type": "code",
   "execution_count": 20,
   "metadata": {},
   "outputs": [
    {
     "name": "stdout",
     "output_type": "stream",
     "text": [
      "Model: \"sequential_1\"\n",
      "_________________________________________________________________\n",
      "Layer (type)                 Output Shape              Param #   \n",
      "=================================================================\n",
      "dense_4 (Dense)              (10, 300)                 235500    \n",
      "_________________________________________________________________\n",
      "dense_5 (Dense)              (10, 300)                 90300     \n",
      "_________________________________________________________________\n",
      "dense_6 (Dense)              (10, 300)                 90300     \n",
      "_________________________________________________________________\n",
      "dense_7 (Dense)              (10, 300)                 90300     \n",
      "_________________________________________________________________\n",
      "dense_8 (Dense)              (10, 300)                 90300     \n",
      "_________________________________________________________________\n",
      "dense_9 (Dense)              (10, 10)                  3010      \n",
      "=================================================================\n",
      "Total params: 599,710\n",
      "Trainable params: 599,710\n",
      "Non-trainable params: 0\n",
      "_________________________________________________________________\n"
     ]
    }
   ],
   "source": [
    "# print a summary of our model and each layer\n",
    "\n",
    "model.summary()"
   ]
  },
  {
   "cell_type": "code",
   "execution_count": 21,
   "metadata": {},
   "outputs": [
    {
     "name": "stdout",
     "output_type": "stream",
     "text": [
      "Accuracy: 0.323\n"
     ]
    }
   ],
   "source": [
    "# evaluate model on test data\n",
    "\n",
    "X_test = Xtest.astype('float32')/255.0\n",
    "y_test = ytest.astype('uint')\n",
    "\n",
    "\n",
    "loss, acc = model.evaluate(X_test, y_test, verbose=0)\n",
    "print('Accuracy: %.3f' % acc)\n",
    "     \n",
    "# Comments\n",
    "# The baseline performance of the model is not very good. Accuracy is really low, which is \n",
    "# expected from the activation function used is not ideal "
   ]
  },
  {
   "cell_type": "code",
   "execution_count": 22,
   "metadata": {},
   "outputs": [
    {
     "name": "stdout",
     "output_type": "stream",
     "text": [
      "Confusion Matrix\n",
      "[[938 177 696 644  87 605 196 304 553 274]\n",
      " [  0 645   3   3   1   0   0   3   0   0]\n",
      " [  0   1   1   3   2   0   2   1   2   0]\n",
      " [  0   1   6 291  33  84   2 220  34 144]\n",
      " [  0   0  12   7 381   3   9  83  13 181]\n",
      " [  0   0   1   0   1   0   0   1   0   0]\n",
      " [ 42 151 303  41 461 186 749  84 335 375]\n",
      " [  0   4   2   1   3   2   0 189   1   1]\n",
      " [  0 156   8  20   8  10   0 143  35  34]\n",
      " [  0   0   0   0   5   2   0   0   1   0]]\n",
      "Classification Report\n",
      "              precision    recall  f1-score   support\n",
      "\n",
      "           0       0.96      0.21      0.34      4474\n",
      "           1       0.57      0.98      0.72       655\n",
      "           2       0.00      0.08      0.00        12\n",
      "           3       0.29      0.36      0.32       815\n",
      "           4       0.39      0.55      0.46       689\n",
      "           5       0.00      0.00      0.00         3\n",
      "           6       0.78      0.27      0.41      2727\n",
      "           7       0.18      0.93      0.31       203\n",
      "           8       0.04      0.08      0.05       414\n",
      "           9       0.00      0.00      0.00         8\n",
      "\n",
      "    accuracy                           0.32     10000\n",
      "   macro avg       0.32      0.35      0.26     10000\n",
      "weighted avg       0.73      0.32      0.38     10000\n",
      "\n"
     ]
    }
   ],
   "source": [
    "# generate confusion matrix and classification report\n",
    "# report shows scores for precision, recall, F1, and support scores of the model\n",
    "\n",
    "from sklearn.metrics import classification_report, confusion_matrix\n",
    "\n",
    "\n",
    "\n",
    "y_proba = model.predict(X_test) \n",
    "y_pred = np.argmax(y_proba,axis=1)\n",
    "print('Confusion Matrix')\n",
    "print(confusion_matrix(y_pred, y_test))\n",
    "print('Classification Report')\n",
    "print(classification_report(y_pred, y_test))\n"
   ]
  },
  {
   "cell_type": "code",
   "execution_count": 23,
   "metadata": {},
   "outputs": [
    {
     "data": {
      "text/plain": [
       "dict_keys(['loss', 'accuracy', 'val_loss', 'val_accuracy'])"
      ]
     },
     "execution_count": 23,
     "metadata": {},
     "output_type": "execute_result"
    }
   ],
   "source": [
    "# plotting accuracy vs epochs\n",
    "performance.history.keys()"
   ]
  },
  {
   "cell_type": "code",
   "execution_count": 24,
   "metadata": {},
   "outputs": [
    {
     "data": {
      "image/png": "[encoded data removed]",
      "text/plain": [
       "<Figure size 432x288 with 1 Axes>"
      ]
     },
     "metadata": {
      "needs_background": "light"
     },
     "output_type": "display_data"
    },
    {
     "data": {
      "image/png": "[encoded data removed]",
      "text/plain": [
       "<Figure size 432x288 with 1 Axes>"
      ]
     },
     "metadata": {
      "needs_background": "light"
     },
     "output_type": "display_data"
    }
   ],
   "source": [
    "plt.plot(performance.history['accuracy'])\n",
    "plt.title('Accuracy')\n",
    "plt.xlabel('epochs')\n",
    "plt.ylabel('accuracy')\n",
    "plt.show()\n",
    "plt.plot(performance.history['val_accuracy'])\n",
    "plt.title('val_accuracy')\n",
    "plt.xlabel('epochs')\n",
    "plt.ylabel('accuracy')\n",
    "plt.show()"
   ]
  },
  {
   "cell_type": "markdown",
   "metadata": {},
   "source": [
    "The baseline performance of network using linear activation function is not very good. "
   ]
  },
  {
   "cell_type": "code",
   "execution_count": null,
   "metadata": {},
   "outputs": [],
   "source": []
  }
 ],
 "metadata": {
  "kernelspec": {
   "display_name": "Python 3",
   "language": "python",
   "name": "python3"
  },
  "language_info": {
   "codemirror_mode": {
    "name": "ipython",
    "version": 3
   },
   "file_extension": ".py",
   "mimetype": "text/x-python",
   "name": "python",
   "nbconvert_exporter": "python",
   "pygments_lexer": "ipython3",
   "version": "3.8.8"
  }
 },
 "nbformat": 4,
 "nbformat_minor": 2
}
